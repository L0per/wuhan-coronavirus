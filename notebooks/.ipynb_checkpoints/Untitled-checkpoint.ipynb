{
 "cells": [
  {
   "cell_type": "code",
   "execution_count": 1,
   "metadata": {},
   "outputs": [],
   "source": [
    "import pandas as pd\n",
    "import numpy as np\n",
    "from tqdm import tqdm\n",
    "pd.set_option('mode.chained_assignment', None)"
   ]
  },
  {
   "cell_type": "code",
   "execution_count": 2,
   "metadata": {},
   "outputs": [],
   "source": [
    "from os import listdir\n",
    "from os.path import isfile, join\n",
    "from datetime import datetime\n",
    "from dateutil.parser import parse"
   ]
  },
  {
   "cell_type": "code",
   "execution_count": 3,
   "metadata": {},
   "outputs": [],
   "source": [
    "confirmed_global_file = 'C:/Users/terra/corona_data/csse_covid_19_data/csse_covid_19_time_series/time_series_covid19_confirmed_global.csv'\n",
    "confirmed_states_file = 'C:/Users/terra/corona_data/csse_covid_19_data/csse_covid_19_time_series/time_series_covid19_confirmed_US.csv'\n",
    "\n",
    "recovered_file = 'C:/Users/terra/corona_data/csse_covid_19_data/csse_covid_19_time_series/time_series_covid19_recovered_global.csv'\n",
    "\n",
    "deaths_global_file = 'C:/Users/terra/corona_data/csse_covid_19_data/csse_covid_19_time_series/time_series_covid19_deaths_global.csv'\n",
    "deaths_states_file = 'C:/Users/terra/corona_data/csse_covid_19_data/csse_covid_19_time_series/time_series_covid19_deaths_US.csv'"
   ]
  },
  {
   "cell_type": "code",
   "execution_count": 4,
   "metadata": {},
   "outputs": [
    {
     "data": {
      "text/html": [
       "<div>\n",
       "<style scoped>\n",
       "    .dataframe tbody tr th:only-of-type {\n",
       "        vertical-align: middle;\n",
       "    }\n",
       "\n",
       "    .dataframe tbody tr th {\n",
       "        vertical-align: top;\n",
       "    }\n",
       "\n",
       "    .dataframe thead th {\n",
       "        text-align: right;\n",
       "    }\n",
       "</style>\n",
       "<table border=\"1\" class=\"dataframe\">\n",
       "  <thead>\n",
       "    <tr style=\"text-align: right;\">\n",
       "      <th></th>\n",
       "      <th>Province/State</th>\n",
       "      <th>Country/Region</th>\n",
       "      <th>Lat</th>\n",
       "      <th>Long</th>\n",
       "      <th>1/22/20</th>\n",
       "      <th>1/23/20</th>\n",
       "      <th>1/24/20</th>\n",
       "      <th>1/25/20</th>\n",
       "      <th>1/26/20</th>\n",
       "      <th>1/27/20</th>\n",
       "      <th>...</th>\n",
       "      <th>3/27/20</th>\n",
       "      <th>3/28/20</th>\n",
       "      <th>3/29/20</th>\n",
       "      <th>3/30/20</th>\n",
       "      <th>3/31/20</th>\n",
       "      <th>4/1/20</th>\n",
       "      <th>4/2/20</th>\n",
       "      <th>4/3/20</th>\n",
       "      <th>4/4/20</th>\n",
       "      <th>4/5/20</th>\n",
       "    </tr>\n",
       "  </thead>\n",
       "  <tbody>\n",
       "    <tr>\n",
       "      <th>0</th>\n",
       "      <td>NaN</td>\n",
       "      <td>Afghanistan</td>\n",
       "      <td>33.0000</td>\n",
       "      <td>65.0000</td>\n",
       "      <td>0</td>\n",
       "      <td>0</td>\n",
       "      <td>0</td>\n",
       "      <td>0</td>\n",
       "      <td>0</td>\n",
       "      <td>0</td>\n",
       "      <td>...</td>\n",
       "      <td>110</td>\n",
       "      <td>110</td>\n",
       "      <td>120</td>\n",
       "      <td>170</td>\n",
       "      <td>174</td>\n",
       "      <td>237</td>\n",
       "      <td>273</td>\n",
       "      <td>281</td>\n",
       "      <td>299</td>\n",
       "      <td>349</td>\n",
       "    </tr>\n",
       "    <tr>\n",
       "      <th>1</th>\n",
       "      <td>NaN</td>\n",
       "      <td>Albania</td>\n",
       "      <td>41.1533</td>\n",
       "      <td>20.1683</td>\n",
       "      <td>0</td>\n",
       "      <td>0</td>\n",
       "      <td>0</td>\n",
       "      <td>0</td>\n",
       "      <td>0</td>\n",
       "      <td>0</td>\n",
       "      <td>...</td>\n",
       "      <td>186</td>\n",
       "      <td>197</td>\n",
       "      <td>212</td>\n",
       "      <td>223</td>\n",
       "      <td>243</td>\n",
       "      <td>259</td>\n",
       "      <td>277</td>\n",
       "      <td>304</td>\n",
       "      <td>333</td>\n",
       "      <td>361</td>\n",
       "    </tr>\n",
       "    <tr>\n",
       "      <th>2</th>\n",
       "      <td>NaN</td>\n",
       "      <td>Algeria</td>\n",
       "      <td>28.0339</td>\n",
       "      <td>1.6596</td>\n",
       "      <td>0</td>\n",
       "      <td>0</td>\n",
       "      <td>0</td>\n",
       "      <td>0</td>\n",
       "      <td>0</td>\n",
       "      <td>0</td>\n",
       "      <td>...</td>\n",
       "      <td>409</td>\n",
       "      <td>454</td>\n",
       "      <td>511</td>\n",
       "      <td>584</td>\n",
       "      <td>716</td>\n",
       "      <td>847</td>\n",
       "      <td>986</td>\n",
       "      <td>1171</td>\n",
       "      <td>1251</td>\n",
       "      <td>1320</td>\n",
       "    </tr>\n",
       "    <tr>\n",
       "      <th>3</th>\n",
       "      <td>NaN</td>\n",
       "      <td>Andorra</td>\n",
       "      <td>42.5063</td>\n",
       "      <td>1.5218</td>\n",
       "      <td>0</td>\n",
       "      <td>0</td>\n",
       "      <td>0</td>\n",
       "      <td>0</td>\n",
       "      <td>0</td>\n",
       "      <td>0</td>\n",
       "      <td>...</td>\n",
       "      <td>267</td>\n",
       "      <td>308</td>\n",
       "      <td>334</td>\n",
       "      <td>370</td>\n",
       "      <td>376</td>\n",
       "      <td>390</td>\n",
       "      <td>428</td>\n",
       "      <td>439</td>\n",
       "      <td>466</td>\n",
       "      <td>501</td>\n",
       "    </tr>\n",
       "    <tr>\n",
       "      <th>4</th>\n",
       "      <td>NaN</td>\n",
       "      <td>Angola</td>\n",
       "      <td>-11.2027</td>\n",
       "      <td>17.8739</td>\n",
       "      <td>0</td>\n",
       "      <td>0</td>\n",
       "      <td>0</td>\n",
       "      <td>0</td>\n",
       "      <td>0</td>\n",
       "      <td>0</td>\n",
       "      <td>...</td>\n",
       "      <td>4</td>\n",
       "      <td>5</td>\n",
       "      <td>7</td>\n",
       "      <td>7</td>\n",
       "      <td>7</td>\n",
       "      <td>8</td>\n",
       "      <td>8</td>\n",
       "      <td>8</td>\n",
       "      <td>10</td>\n",
       "      <td>14</td>\n",
       "    </tr>\n",
       "  </tbody>\n",
       "</table>\n",
       "<p>5 rows × 79 columns</p>\n",
       "</div>"
      ],
      "text/plain": [
       "  Province/State Country/Region      Lat     Long  1/22/20  1/23/20  1/24/20  \\\n",
       "0            NaN    Afghanistan  33.0000  65.0000        0        0        0   \n",
       "1            NaN        Albania  41.1533  20.1683        0        0        0   \n",
       "2            NaN        Algeria  28.0339   1.6596        0        0        0   \n",
       "3            NaN        Andorra  42.5063   1.5218        0        0        0   \n",
       "4            NaN         Angola -11.2027  17.8739        0        0        0   \n",
       "\n",
       "   1/25/20  1/26/20  1/27/20  ...  3/27/20  3/28/20  3/29/20  3/30/20  \\\n",
       "0        0        0        0  ...      110      110      120      170   \n",
       "1        0        0        0  ...      186      197      212      223   \n",
       "2        0        0        0  ...      409      454      511      584   \n",
       "3        0        0        0  ...      267      308      334      370   \n",
       "4        0        0        0  ...        4        5        7        7   \n",
       "\n",
       "   3/31/20  4/1/20  4/2/20  4/3/20  4/4/20  4/5/20  \n",
       "0      174     237     273     281     299     349  \n",
       "1      243     259     277     304     333     361  \n",
       "2      716     847     986    1171    1251    1320  \n",
       "3      376     390     428     439     466     501  \n",
       "4        7       8       8       8      10      14  \n",
       "\n",
       "[5 rows x 79 columns]"
      ]
     },
     "execution_count": 4,
     "metadata": {},
     "output_type": "execute_result"
    }
   ],
   "source": [
    "confirmed_global_df = pd.read_csv(confirmed_global_file)\n",
    "confirmed_states_df = pd.read_csv(confirmed_states_file)\n",
    "recovered_df = pd.read_csv(recovered_file)\n",
    "deaths_states_df = pd.read_csv(deaths_states_file)\n",
    "deaths_global_df = pd.read_csv(deaths_global_file)\n",
    "confirmed_global_df.head()"
   ]
  },
  {
   "cell_type": "markdown",
   "metadata": {},
   "source": [
    "#### Remove US from Global Data"
   ]
  },
  {
   "cell_type": "code",
   "execution_count": 5,
   "metadata": {},
   "outputs": [],
   "source": [
    "confirmed_global_df = confirmed_global_df[confirmed_global_df['Country/Region'] != 'US']\n",
    "deaths_global_df = deaths_global_df[deaths_global_df['Country/Region'] != \"US\"]"
   ]
  },
  {
   "cell_type": "code",
   "execution_count": 6,
   "metadata": {},
   "outputs": [
    {
     "data": {
      "text/html": [
       "<div>\n",
       "<style scoped>\n",
       "    .dataframe tbody tr th:only-of-type {\n",
       "        vertical-align: middle;\n",
       "    }\n",
       "\n",
       "    .dataframe tbody tr th {\n",
       "        vertical-align: top;\n",
       "    }\n",
       "\n",
       "    .dataframe thead th {\n",
       "        text-align: right;\n",
       "    }\n",
       "</style>\n",
       "<table border=\"1\" class=\"dataframe\">\n",
       "  <thead>\n",
       "    <tr style=\"text-align: right;\">\n",
       "      <th></th>\n",
       "      <th>Province/State</th>\n",
       "      <th>Country/Region</th>\n",
       "      <th>Lat</th>\n",
       "      <th>Long</th>\n",
       "      <th>1/22/20</th>\n",
       "      <th>1/23/20</th>\n",
       "      <th>1/24/20</th>\n",
       "      <th>1/25/20</th>\n",
       "      <th>1/26/20</th>\n",
       "      <th>1/27/20</th>\n",
       "      <th>...</th>\n",
       "      <th>3/27/20</th>\n",
       "      <th>3/28/20</th>\n",
       "      <th>3/29/20</th>\n",
       "      <th>3/30/20</th>\n",
       "      <th>3/31/20</th>\n",
       "      <th>4/1/20</th>\n",
       "      <th>4/2/20</th>\n",
       "      <th>4/3/20</th>\n",
       "      <th>4/4/20</th>\n",
       "      <th>4/5/20</th>\n",
       "    </tr>\n",
       "  </thead>\n",
       "  <tbody>\n",
       "  </tbody>\n",
       "</table>\n",
       "<p>0 rows × 79 columns</p>\n",
       "</div>"
      ],
      "text/plain": [
       "Empty DataFrame\n",
       "Columns: [Province/State, Country/Region, Lat, Long, 1/22/20, 1/23/20, 1/24/20, 1/25/20, 1/26/20, 1/27/20, 1/28/20, 1/29/20, 1/30/20, 1/31/20, 2/1/20, 2/2/20, 2/3/20, 2/4/20, 2/5/20, 2/6/20, 2/7/20, 2/8/20, 2/9/20, 2/10/20, 2/11/20, 2/12/20, 2/13/20, 2/14/20, 2/15/20, 2/16/20, 2/17/20, 2/18/20, 2/19/20, 2/20/20, 2/21/20, 2/22/20, 2/23/20, 2/24/20, 2/25/20, 2/26/20, 2/27/20, 2/28/20, 2/29/20, 3/1/20, 3/2/20, 3/3/20, 3/4/20, 3/5/20, 3/6/20, 3/7/20, 3/8/20, 3/9/20, 3/10/20, 3/11/20, 3/12/20, 3/13/20, 3/14/20, 3/15/20, 3/16/20, 3/17/20, 3/18/20, 3/19/20, 3/20/20, 3/21/20, 3/22/20, 3/23/20, 3/24/20, 3/25/20, 3/26/20, 3/27/20, 3/28/20, 3/29/20, 3/30/20, 3/31/20, 4/1/20, 4/2/20, 4/3/20, 4/4/20, 4/5/20]\n",
       "Index: []\n",
       "\n",
       "[0 rows x 79 columns]"
      ]
     },
     "execution_count": 6,
     "metadata": {},
     "output_type": "execute_result"
    }
   ],
   "source": [
    "confirmed_global_df[confirmed_global_df['Country/Region'] == 'US']"
   ]
  },
  {
   "cell_type": "markdown",
   "metadata": {},
   "source": [
    "#### Get list of dates"
   ]
  },
  {
   "cell_type": "code",
   "execution_count": 11,
   "metadata": {},
   "outputs": [
    {
     "data": {
      "text/plain": [
       "Index(['1/22/20', '1/23/20', '1/24/20'], dtype='object')"
      ]
     },
     "execution_count": 11,
     "metadata": {},
     "output_type": "execute_result"
    }
   ],
   "source": [
    "dates = confirmed_global_df.columns[4:7]\n",
    "dates"
   ]
  },
  {
   "cell_type": "markdown",
   "metadata": {},
   "source": [
    "#### Replace NaN Values with Country Region if Province/State or Admin2 is empty"
   ]
  },
  {
   "cell_type": "code",
   "execution_count": 8,
   "metadata": {},
   "outputs": [],
   "source": [
    "### Remove NaN values from Province/State Column\n",
    "confirmed_global_df.loc[confirmed_global_df['Province/State'].isnull(),'Province/State'] = confirmed_global_df['Country/Region']\n",
    "confirmed_states_df.loc[confirmed_states_df['Province_State'].isnull(),'Province_State'] = confirmed_states_df['Country_Region']\n",
    "confirmed_states_df.loc[confirmed_states_df['Admin2'].isnull(),'Admin2'] = confirmed_states_df['Province_State']\n",
    "\n",
    "deaths_global_df.loc[deaths_global_df['Province/State'].isnull(),'Province/State'] = deaths_global_df['Country/Region']\n",
    "deaths_states_df.loc[deaths_states_df['Province_State'].isnull(),'Province_State'] = deaths_states_df['Country_Region']\n",
    "deaths_states_df.loc[deaths_states_df['Admin2'].isnull(),'Admin2'] = deaths_states_df['Province_State']\n",
    "\n",
    "recovered_df.loc[recovered_df['Province/State'].isnull(),'Province/State'] = recovered_df['Country/Region']"
   ]
  },
  {
   "cell_type": "markdown",
   "metadata": {},
   "source": [
    "#### Remove '.' at end of locations/regions/states"
   ]
  },
  {
   "cell_type": "code",
   "execution_count": 9,
   "metadata": {},
   "outputs": [],
   "source": [
    "\n",
    "confirmed_global_df['Province/State'] = confirmed_global_df['Province/State'].str.replace('.','')\n",
    "confirmed_states_df['Province_State'] = confirmed_states_df['Province_State'].str.replace('.','')\n",
    "confirmed_states_df['Admin2'] = confirmed_states_df['Admin2'].str.replace('.','')\n",
    "\n",
    "deaths_global_df['Province/State'] = deaths_global_df['Province/State'].str.replace('.','')\n",
    "deaths_states_df['Province_State'] = deaths_states_df['Province_State'].str.replace('.','')\n",
    "deaths_states_df['Admin2'] = deaths_states_df['Admin2'].str.replace('.','')\n",
    "\n",
    "recovered_df['Province/State'] = recovered_df['Province/State'].str.replace('.','')\n"
   ]
  },
  {
   "cell_type": "markdown",
   "metadata": {},
   "source": [
    "### Post Object\n",
    "\n",
    "Holds a list of documents that will be posted to the database"
   ]
  },
  {
   "cell_type": "code",
   "execution_count": 29,
   "metadata": {},
   "outputs": [],
   "source": [
    "post = {'data': {}}\n",
    "\n",
    "for x in dates:\n",
    "    \n",
    "    post['data'][x] = []\n",
    "    \n"
   ]
  },
  {
   "cell_type": "code",
   "execution_count": 30,
   "metadata": {},
   "outputs": [
    {
     "data": {
      "text/plain": [
       "{'1/22/20': [], '1/23/20': [], '1/24/20': []}"
      ]
     },
     "execution_count": 30,
     "metadata": {},
     "output_type": "execute_result"
    }
   ],
   "source": [
    "post['data']"
   ]
  },
  {
   "cell_type": "markdown",
   "metadata": {},
   "source": [
    "### DATA"
   ]
  },
  {
   "cell_type": "code",
   "execution_count": 31,
   "metadata": {},
   "outputs": [
    {
     "name": "stderr",
     "output_type": "stream",
     "text": [
      "\n",
      "\n",
      "  0%|                                                                                            | 0/3 [00:00<?, ?it/s]\n",
      "\n",
      " 33%|████████████████████████████                                                        | 1/3 [00:00<00:00,  6.81it/s]\n",
      "\n",
      " 67%|████████████████████████████████████████████████████████                            | 2/3 [00:00<00:00,  6.24it/s]\n",
      "\n",
      "100%|████████████████████████████████████████████████████████████████████████████████████| 3/3 [00:00<00:00,  5.98it/s]"
     ]
    }
   ],
   "source": [
    "for x in tqdm(dates):\n",
    "    for index, row in confirmed_global_df.iterrows():\n",
    "        date = x\n",
    "        location = row['Province/State']\n",
    "        region = row['Country/Region']\n",
    "        lat = row['Lat']\n",
    "        lng = row['Long']\n",
    "        confirmed = row[x]\n",
    "        if confirmed < 1:\n",
    "            continue\n",
    "        else:\n",
    "            obj = { \n",
    "                'date': pd.to_datetime(x),\n",
    "                'location': location,\n",
    "                'region': region,\n",
    "                'lat': lat,\n",
    "                'lng': lng,\n",
    "                'confirmed': confirmed\n",
    "            }\n",
    "            post['data'][x].append(obj)\n",
    "    \n",
    "    for index, row in deaths_global_df.iterrows():\n",
    "        date = x\n",
    "        location = row['Province/State']\n",
    "        region = row['Country/Region']\n",
    "        deaths = row[x]\n",
    "        \n",
    "        for i in post['data'][x]:\n",
    "            if i['location'] == location and i['region'] == region:\n",
    "                i['deaths'] = deaths\n",
    "                \n",
    "    for index, row in recovered_df.iterrows():\n",
    "        date = x\n",
    "        location = row['Province/State']\n",
    "        region = row['Country/Region']\n",
    "        recovered = row[x]\n",
    "        \n",
    "        for i in post['data'][x]:\n",
    "            if i['location'] == location and i['region'] == region:\n",
    "                i['recovered'] = recovered               "
   ]
  },
  {
   "cell_type": "code",
   "execution_count": 32,
   "metadata": {},
   "outputs": [
    {
     "data": {
      "text/plain": [
       "{'1/22/20': [{'date': Timestamp('2020-01-22 00:00:00'),\n",
       "   'location': 'Anhui',\n",
       "   'region': 'China',\n",
       "   'lat': 31.8257,\n",
       "   'lng': 117.2264,\n",
       "   'confirmed': 1,\n",
       "   'deaths': 0,\n",
       "   'recovered': 0},\n",
       "  {'date': Timestamp('2020-01-22 00:00:00'),\n",
       "   'location': 'Beijing',\n",
       "   'region': 'China',\n",
       "   'lat': 40.1824,\n",
       "   'lng': 116.4142,\n",
       "   'confirmed': 14,\n",
       "   'deaths': 0,\n",
       "   'recovered': 0},\n",
       "  {'date': Timestamp('2020-01-22 00:00:00'),\n",
       "   'location': 'Chongqing',\n",
       "   'region': 'China',\n",
       "   'lat': 30.0572,\n",
       "   'lng': 107.874,\n",
       "   'confirmed': 6,\n",
       "   'deaths': 0,\n",
       "   'recovered': 0},\n",
       "  {'date': Timestamp('2020-01-22 00:00:00'),\n",
       "   'location': 'Fujian',\n",
       "   'region': 'China',\n",
       "   'lat': 26.0789,\n",
       "   'lng': 117.9874,\n",
       "   'confirmed': 1,\n",
       "   'deaths': 0,\n",
       "   'recovered': 0},\n",
       "  {'date': Timestamp('2020-01-22 00:00:00'),\n",
       "   'location': 'Guangdong',\n",
       "   'region': 'China',\n",
       "   'lat': 23.3417,\n",
       "   'lng': 113.4244,\n",
       "   'confirmed': 26,\n",
       "   'deaths': 0,\n",
       "   'recovered': 0},\n",
       "  {'date': Timestamp('2020-01-22 00:00:00'),\n",
       "   'location': 'Guangxi',\n",
       "   'region': 'China',\n",
       "   'lat': 23.8298,\n",
       "   'lng': 108.7881,\n",
       "   'confirmed': 2,\n",
       "   'deaths': 0,\n",
       "   'recovered': 0},\n",
       "  {'date': Timestamp('2020-01-22 00:00:00'),\n",
       "   'location': 'Guizhou',\n",
       "   'region': 'China',\n",
       "   'lat': 26.8154,\n",
       "   'lng': 106.8748,\n",
       "   'confirmed': 1,\n",
       "   'deaths': 0,\n",
       "   'recovered': 0},\n",
       "  {'date': Timestamp('2020-01-22 00:00:00'),\n",
       "   'location': 'Hainan',\n",
       "   'region': 'China',\n",
       "   'lat': 19.1959,\n",
       "   'lng': 109.7453,\n",
       "   'confirmed': 4,\n",
       "   'deaths': 0,\n",
       "   'recovered': 0},\n",
       "  {'date': Timestamp('2020-01-22 00:00:00'),\n",
       "   'location': 'Hebei',\n",
       "   'region': 'China',\n",
       "   'lat': 39.549,\n",
       "   'lng': 116.1306,\n",
       "   'confirmed': 1,\n",
       "   'deaths': 0,\n",
       "   'recovered': 0},\n",
       "  {'date': Timestamp('2020-01-22 00:00:00'),\n",
       "   'location': 'Henan',\n",
       "   'region': 'China',\n",
       "   'lat': 33.882,\n",
       "   'lng': 113.614,\n",
       "   'confirmed': 5,\n",
       "   'deaths': 0,\n",
       "   'recovered': 0},\n",
       "  {'date': Timestamp('2020-01-22 00:00:00'),\n",
       "   'location': 'Hubei',\n",
       "   'region': 'China',\n",
       "   'lat': 30.9756,\n",
       "   'lng': 112.2707,\n",
       "   'confirmed': 444,\n",
       "   'deaths': 17,\n",
       "   'recovered': 28},\n",
       "  {'date': Timestamp('2020-01-22 00:00:00'),\n",
       "   'location': 'Hunan',\n",
       "   'region': 'China',\n",
       "   'lat': 27.6104,\n",
       "   'lng': 111.7088,\n",
       "   'confirmed': 4,\n",
       "   'deaths': 0,\n",
       "   'recovered': 0},\n",
       "  {'date': Timestamp('2020-01-22 00:00:00'),\n",
       "   'location': 'Jiangsu',\n",
       "   'region': 'China',\n",
       "   'lat': 32.9711,\n",
       "   'lng': 119.455,\n",
       "   'confirmed': 1,\n",
       "   'deaths': 0,\n",
       "   'recovered': 0},\n",
       "  {'date': Timestamp('2020-01-22 00:00:00'),\n",
       "   'location': 'Jiangxi',\n",
       "   'region': 'China',\n",
       "   'lat': 27.614,\n",
       "   'lng': 115.7221,\n",
       "   'confirmed': 2,\n",
       "   'deaths': 0,\n",
       "   'recovered': 0},\n",
       "  {'date': Timestamp('2020-01-22 00:00:00'),\n",
       "   'location': 'Liaoning',\n",
       "   'region': 'China',\n",
       "   'lat': 41.2956,\n",
       "   'lng': 122.6085,\n",
       "   'confirmed': 2,\n",
       "   'deaths': 0,\n",
       "   'recovered': 0},\n",
       "  {'date': Timestamp('2020-01-22 00:00:00'),\n",
       "   'location': 'Macau',\n",
       "   'region': 'China',\n",
       "   'lat': 22.1667,\n",
       "   'lng': 113.55,\n",
       "   'confirmed': 1,\n",
       "   'deaths': 0,\n",
       "   'recovered': 0},\n",
       "  {'date': Timestamp('2020-01-22 00:00:00'),\n",
       "   'location': 'Ningxia',\n",
       "   'region': 'China',\n",
       "   'lat': 37.2692,\n",
       "   'lng': 106.1655,\n",
       "   'confirmed': 1,\n",
       "   'deaths': 0,\n",
       "   'recovered': 0},\n",
       "  {'date': Timestamp('2020-01-22 00:00:00'),\n",
       "   'location': 'Shandong',\n",
       "   'region': 'China',\n",
       "   'lat': 36.3427,\n",
       "   'lng': 118.1498,\n",
       "   'confirmed': 2,\n",
       "   'deaths': 0,\n",
       "   'recovered': 0},\n",
       "  {'date': Timestamp('2020-01-22 00:00:00'),\n",
       "   'location': 'Shanghai',\n",
       "   'region': 'China',\n",
       "   'lat': 31.202,\n",
       "   'lng': 121.4491,\n",
       "   'confirmed': 9,\n",
       "   'deaths': 0,\n",
       "   'recovered': 0},\n",
       "  {'date': Timestamp('2020-01-22 00:00:00'),\n",
       "   'location': 'Shanxi',\n",
       "   'region': 'China',\n",
       "   'lat': 37.5777,\n",
       "   'lng': 112.2922,\n",
       "   'confirmed': 1,\n",
       "   'deaths': 0,\n",
       "   'recovered': 0},\n",
       "  {'date': Timestamp('2020-01-22 00:00:00'),\n",
       "   'location': 'Sichuan',\n",
       "   'region': 'China',\n",
       "   'lat': 30.6171,\n",
       "   'lng': 102.7103,\n",
       "   'confirmed': 5,\n",
       "   'deaths': 0,\n",
       "   'recovered': 0},\n",
       "  {'date': Timestamp('2020-01-22 00:00:00'),\n",
       "   'location': 'Tianjin',\n",
       "   'region': 'China',\n",
       "   'lat': 39.3054,\n",
       "   'lng': 117.323,\n",
       "   'confirmed': 4,\n",
       "   'deaths': 0,\n",
       "   'recovered': 0},\n",
       "  {'date': Timestamp('2020-01-22 00:00:00'),\n",
       "   'location': 'Yunnan',\n",
       "   'region': 'China',\n",
       "   'lat': 24.974,\n",
       "   'lng': 101.487,\n",
       "   'confirmed': 1,\n",
       "   'deaths': 0,\n",
       "   'recovered': 0},\n",
       "  {'date': Timestamp('2020-01-22 00:00:00'),\n",
       "   'location': 'Zhejiang',\n",
       "   'region': 'China',\n",
       "   'lat': 29.1832,\n",
       "   'lng': 120.0934,\n",
       "   'confirmed': 10,\n",
       "   'deaths': 0,\n",
       "   'recovered': 0},\n",
       "  {'date': Timestamp('2020-01-22 00:00:00'),\n",
       "   'location': 'Japan',\n",
       "   'region': 'Japan',\n",
       "   'lat': 36.0,\n",
       "   'lng': 138.0,\n",
       "   'confirmed': 2,\n",
       "   'deaths': 0,\n",
       "   'recovered': 0},\n",
       "  {'date': Timestamp('2020-01-22 00:00:00'),\n",
       "   'location': 'Korea, South',\n",
       "   'region': 'Korea, South',\n",
       "   'lat': 36.0,\n",
       "   'lng': 128.0,\n",
       "   'confirmed': 1,\n",
       "   'deaths': 0,\n",
       "   'recovered': 0},\n",
       "  {'date': Timestamp('2020-01-22 00:00:00'),\n",
       "   'location': 'Taiwan*',\n",
       "   'region': 'Taiwan*',\n",
       "   'lat': 23.7,\n",
       "   'lng': 121.0,\n",
       "   'confirmed': 1,\n",
       "   'deaths': 0,\n",
       "   'recovered': 0},\n",
       "  {'date': Timestamp('2020-01-22 00:00:00'),\n",
       "   'location': 'Thailand',\n",
       "   'region': 'Thailand',\n",
       "   'lat': 15.0,\n",
       "   'lng': 101.0,\n",
       "   'confirmed': 2,\n",
       "   'deaths': 0,\n",
       "   'recovered': 0}],\n",
       " '1/23/20': [{'date': Timestamp('2020-01-23 00:00:00'),\n",
       "   'location': 'Anhui',\n",
       "   'region': 'China',\n",
       "   'lat': 31.8257,\n",
       "   'lng': 117.2264,\n",
       "   'confirmed': 9,\n",
       "   'deaths': 0,\n",
       "   'recovered': 0},\n",
       "  {'date': Timestamp('2020-01-23 00:00:00'),\n",
       "   'location': 'Beijing',\n",
       "   'region': 'China',\n",
       "   'lat': 40.1824,\n",
       "   'lng': 116.4142,\n",
       "   'confirmed': 22,\n",
       "   'deaths': 0,\n",
       "   'recovered': 0},\n",
       "  {'date': Timestamp('2020-01-23 00:00:00'),\n",
       "   'location': 'Chongqing',\n",
       "   'region': 'China',\n",
       "   'lat': 30.0572,\n",
       "   'lng': 107.874,\n",
       "   'confirmed': 9,\n",
       "   'deaths': 0,\n",
       "   'recovered': 0},\n",
       "  {'date': Timestamp('2020-01-23 00:00:00'),\n",
       "   'location': 'Fujian',\n",
       "   'region': 'China',\n",
       "   'lat': 26.0789,\n",
       "   'lng': 117.9874,\n",
       "   'confirmed': 5,\n",
       "   'deaths': 0,\n",
       "   'recovered': 0},\n",
       "  {'date': Timestamp('2020-01-23 00:00:00'),\n",
       "   'location': 'Gansu',\n",
       "   'region': 'China',\n",
       "   'lat': 37.8099,\n",
       "   'lng': 101.0583,\n",
       "   'confirmed': 2,\n",
       "   'deaths': 0,\n",
       "   'recovered': 0},\n",
       "  {'date': Timestamp('2020-01-23 00:00:00'),\n",
       "   'location': 'Guangdong',\n",
       "   'region': 'China',\n",
       "   'lat': 23.3417,\n",
       "   'lng': 113.4244,\n",
       "   'confirmed': 32,\n",
       "   'deaths': 0,\n",
       "   'recovered': 2},\n",
       "  {'date': Timestamp('2020-01-23 00:00:00'),\n",
       "   'location': 'Guangxi',\n",
       "   'region': 'China',\n",
       "   'lat': 23.8298,\n",
       "   'lng': 108.7881,\n",
       "   'confirmed': 5,\n",
       "   'deaths': 0,\n",
       "   'recovered': 0},\n",
       "  {'date': Timestamp('2020-01-23 00:00:00'),\n",
       "   'location': 'Guizhou',\n",
       "   'region': 'China',\n",
       "   'lat': 26.8154,\n",
       "   'lng': 106.8748,\n",
       "   'confirmed': 3,\n",
       "   'deaths': 0,\n",
       "   'recovered': 0},\n",
       "  {'date': Timestamp('2020-01-23 00:00:00'),\n",
       "   'location': 'Hainan',\n",
       "   'region': 'China',\n",
       "   'lat': 19.1959,\n",
       "   'lng': 109.7453,\n",
       "   'confirmed': 5,\n",
       "   'deaths': 0,\n",
       "   'recovered': 0},\n",
       "  {'date': Timestamp('2020-01-23 00:00:00'),\n",
       "   'location': 'Hebei',\n",
       "   'region': 'China',\n",
       "   'lat': 39.549,\n",
       "   'lng': 116.1306,\n",
       "   'confirmed': 1,\n",
       "   'deaths': 1,\n",
       "   'recovered': 0},\n",
       "  {'date': Timestamp('2020-01-23 00:00:00'),\n",
       "   'location': 'Heilongjiang',\n",
       "   'region': 'China',\n",
       "   'lat': 47.862,\n",
       "   'lng': 127.7615,\n",
       "   'confirmed': 2,\n",
       "   'deaths': 0,\n",
       "   'recovered': 0},\n",
       "  {'date': Timestamp('2020-01-23 00:00:00'),\n",
       "   'location': 'Henan',\n",
       "   'region': 'China',\n",
       "   'lat': 33.882,\n",
       "   'lng': 113.614,\n",
       "   'confirmed': 5,\n",
       "   'deaths': 0,\n",
       "   'recovered': 0},\n",
       "  {'date': Timestamp('2020-01-23 00:00:00'),\n",
       "   'location': 'Hong Kong',\n",
       "   'region': 'China',\n",
       "   'lat': 22.3,\n",
       "   'lng': 114.2,\n",
       "   'confirmed': 2,\n",
       "   'deaths': 0,\n",
       "   'recovered': 0},\n",
       "  {'date': Timestamp('2020-01-23 00:00:00'),\n",
       "   'location': 'Hubei',\n",
       "   'region': 'China',\n",
       "   'lat': 30.9756,\n",
       "   'lng': 112.2707,\n",
       "   'confirmed': 444,\n",
       "   'deaths': 17,\n",
       "   'recovered': 28},\n",
       "  {'date': Timestamp('2020-01-23 00:00:00'),\n",
       "   'location': 'Hunan',\n",
       "   'region': 'China',\n",
       "   'lat': 27.6104,\n",
       "   'lng': 111.7088,\n",
       "   'confirmed': 9,\n",
       "   'deaths': 0,\n",
       "   'recovered': 0},\n",
       "  {'date': Timestamp('2020-01-23 00:00:00'),\n",
       "   'location': 'Jiangsu',\n",
       "   'region': 'China',\n",
       "   'lat': 32.9711,\n",
       "   'lng': 119.455,\n",
       "   'confirmed': 5,\n",
       "   'deaths': 0,\n",
       "   'recovered': 0},\n",
       "  {'date': Timestamp('2020-01-23 00:00:00'),\n",
       "   'location': 'Jiangxi',\n",
       "   'region': 'China',\n",
       "   'lat': 27.614,\n",
       "   'lng': 115.7221,\n",
       "   'confirmed': 7,\n",
       "   'deaths': 0,\n",
       "   'recovered': 0},\n",
       "  {'date': Timestamp('2020-01-23 00:00:00'),\n",
       "   'location': 'Jilin',\n",
       "   'region': 'China',\n",
       "   'lat': 43.6661,\n",
       "   'lng': 126.1923,\n",
       "   'confirmed': 1,\n",
       "   'deaths': 0,\n",
       "   'recovered': 0},\n",
       "  {'date': Timestamp('2020-01-23 00:00:00'),\n",
       "   'location': 'Liaoning',\n",
       "   'region': 'China',\n",
       "   'lat': 41.2956,\n",
       "   'lng': 122.6085,\n",
       "   'confirmed': 3,\n",
       "   'deaths': 0,\n",
       "   'recovered': 0},\n",
       "  {'date': Timestamp('2020-01-23 00:00:00'),\n",
       "   'location': 'Macau',\n",
       "   'region': 'China',\n",
       "   'lat': 22.1667,\n",
       "   'lng': 113.55,\n",
       "   'confirmed': 2,\n",
       "   'deaths': 0,\n",
       "   'recovered': 0},\n",
       "  {'date': Timestamp('2020-01-23 00:00:00'),\n",
       "   'location': 'Ningxia',\n",
       "   'region': 'China',\n",
       "   'lat': 37.2692,\n",
       "   'lng': 106.1655,\n",
       "   'confirmed': 1,\n",
       "   'deaths': 0,\n",
       "   'recovered': 0},\n",
       "  {'date': Timestamp('2020-01-23 00:00:00'),\n",
       "   'location': 'Shaanxi',\n",
       "   'region': 'China',\n",
       "   'lat': 35.1917,\n",
       "   'lng': 108.8701,\n",
       "   'confirmed': 3,\n",
       "   'deaths': 0,\n",
       "   'recovered': 0},\n",
       "  {'date': Timestamp('2020-01-23 00:00:00'),\n",
       "   'location': 'Shandong',\n",
       "   'region': 'China',\n",
       "   'lat': 36.3427,\n",
       "   'lng': 118.1498,\n",
       "   'confirmed': 6,\n",
       "   'deaths': 0,\n",
       "   'recovered': 0},\n",
       "  {'date': Timestamp('2020-01-23 00:00:00'),\n",
       "   'location': 'Shanghai',\n",
       "   'region': 'China',\n",
       "   'lat': 31.202,\n",
       "   'lng': 121.4491,\n",
       "   'confirmed': 16,\n",
       "   'deaths': 0,\n",
       "   'recovered': 0},\n",
       "  {'date': Timestamp('2020-01-23 00:00:00'),\n",
       "   'location': 'Shanxi',\n",
       "   'region': 'China',\n",
       "   'lat': 37.5777,\n",
       "   'lng': 112.2922,\n",
       "   'confirmed': 1,\n",
       "   'deaths': 0,\n",
       "   'recovered': 0},\n",
       "  {'date': Timestamp('2020-01-23 00:00:00'),\n",
       "   'location': 'Sichuan',\n",
       "   'region': 'China',\n",
       "   'lat': 30.6171,\n",
       "   'lng': 102.7103,\n",
       "   'confirmed': 8,\n",
       "   'deaths': 0,\n",
       "   'recovered': 0},\n",
       "  {'date': Timestamp('2020-01-23 00:00:00'),\n",
       "   'location': 'Tianjin',\n",
       "   'region': 'China',\n",
       "   'lat': 39.3054,\n",
       "   'lng': 117.323,\n",
       "   'confirmed': 4,\n",
       "   'deaths': 0,\n",
       "   'recovered': 0},\n",
       "  {'date': Timestamp('2020-01-23 00:00:00'),\n",
       "   'location': 'Xinjiang',\n",
       "   'region': 'China',\n",
       "   'lat': 41.1129,\n",
       "   'lng': 85.2401,\n",
       "   'confirmed': 2,\n",
       "   'deaths': 0,\n",
       "   'recovered': 0},\n",
       "  {'date': Timestamp('2020-01-23 00:00:00'),\n",
       "   'location': 'Yunnan',\n",
       "   'region': 'China',\n",
       "   'lat': 24.974,\n",
       "   'lng': 101.487,\n",
       "   'confirmed': 2,\n",
       "   'deaths': 0,\n",
       "   'recovered': 0},\n",
       "  {'date': Timestamp('2020-01-23 00:00:00'),\n",
       "   'location': 'Zhejiang',\n",
       "   'region': 'China',\n",
       "   'lat': 29.1832,\n",
       "   'lng': 120.0934,\n",
       "   'confirmed': 27,\n",
       "   'deaths': 0,\n",
       "   'recovered': 0},\n",
       "  {'date': Timestamp('2020-01-23 00:00:00'),\n",
       "   'location': 'Japan',\n",
       "   'region': 'Japan',\n",
       "   'lat': 36.0,\n",
       "   'lng': 138.0,\n",
       "   'confirmed': 2,\n",
       "   'deaths': 0,\n",
       "   'recovered': 0},\n",
       "  {'date': Timestamp('2020-01-23 00:00:00'),\n",
       "   'location': 'Korea, South',\n",
       "   'region': 'Korea, South',\n",
       "   'lat': 36.0,\n",
       "   'lng': 128.0,\n",
       "   'confirmed': 1,\n",
       "   'deaths': 0,\n",
       "   'recovered': 0},\n",
       "  {'date': Timestamp('2020-01-23 00:00:00'),\n",
       "   'location': 'Singapore',\n",
       "   'region': 'Singapore',\n",
       "   'lat': 1.2833,\n",
       "   'lng': 103.8333,\n",
       "   'confirmed': 1,\n",
       "   'deaths': 0,\n",
       "   'recovered': 0},\n",
       "  {'date': Timestamp('2020-01-23 00:00:00'),\n",
       "   'location': 'Taiwan*',\n",
       "   'region': 'Taiwan*',\n",
       "   'lat': 23.7,\n",
       "   'lng': 121.0,\n",
       "   'confirmed': 1,\n",
       "   'deaths': 0,\n",
       "   'recovered': 0},\n",
       "  {'date': Timestamp('2020-01-23 00:00:00'),\n",
       "   'location': 'Thailand',\n",
       "   'region': 'Thailand',\n",
       "   'lat': 15.0,\n",
       "   'lng': 101.0,\n",
       "   'confirmed': 3,\n",
       "   'deaths': 0,\n",
       "   'recovered': 0},\n",
       "  {'date': Timestamp('2020-01-23 00:00:00'),\n",
       "   'location': 'Vietnam',\n",
       "   'region': 'Vietnam',\n",
       "   'lat': 16.0,\n",
       "   'lng': 108.0,\n",
       "   'confirmed': 2,\n",
       "   'deaths': 0,\n",
       "   'recovered': 0}],\n",
       " '1/24/20': [{'date': Timestamp('2020-01-24 00:00:00'),\n",
       "   'location': 'Anhui',\n",
       "   'region': 'China',\n",
       "   'lat': 31.8257,\n",
       "   'lng': 117.2264,\n",
       "   'confirmed': 15,\n",
       "   'deaths': 0,\n",
       "   'recovered': 0},\n",
       "  {'date': Timestamp('2020-01-24 00:00:00'),\n",
       "   'location': 'Beijing',\n",
       "   'region': 'China',\n",
       "   'lat': 40.1824,\n",
       "   'lng': 116.4142,\n",
       "   'confirmed': 36,\n",
       "   'deaths': 0,\n",
       "   'recovered': 1},\n",
       "  {'date': Timestamp('2020-01-24 00:00:00'),\n",
       "   'location': 'Chongqing',\n",
       "   'region': 'China',\n",
       "   'lat': 30.0572,\n",
       "   'lng': 107.874,\n",
       "   'confirmed': 27,\n",
       "   'deaths': 0,\n",
       "   'recovered': 0},\n",
       "  {'date': Timestamp('2020-01-24 00:00:00'),\n",
       "   'location': 'Fujian',\n",
       "   'region': 'China',\n",
       "   'lat': 26.0789,\n",
       "   'lng': 117.9874,\n",
       "   'confirmed': 10,\n",
       "   'deaths': 0,\n",
       "   'recovered': 0},\n",
       "  {'date': Timestamp('2020-01-24 00:00:00'),\n",
       "   'location': 'Gansu',\n",
       "   'region': 'China',\n",
       "   'lat': 37.8099,\n",
       "   'lng': 101.0583,\n",
       "   'confirmed': 2,\n",
       "   'deaths': 0,\n",
       "   'recovered': 0},\n",
       "  {'date': Timestamp('2020-01-24 00:00:00'),\n",
       "   'location': 'Guangdong',\n",
       "   'region': 'China',\n",
       "   'lat': 23.3417,\n",
       "   'lng': 113.4244,\n",
       "   'confirmed': 53,\n",
       "   'deaths': 0,\n",
       "   'recovered': 2},\n",
       "  {'date': Timestamp('2020-01-24 00:00:00'),\n",
       "   'location': 'Guangxi',\n",
       "   'region': 'China',\n",
       "   'lat': 23.8298,\n",
       "   'lng': 108.7881,\n",
       "   'confirmed': 23,\n",
       "   'deaths': 0,\n",
       "   'recovered': 0},\n",
       "  {'date': Timestamp('2020-01-24 00:00:00'),\n",
       "   'location': 'Guizhou',\n",
       "   'region': 'China',\n",
       "   'lat': 26.8154,\n",
       "   'lng': 106.8748,\n",
       "   'confirmed': 3,\n",
       "   'deaths': 0,\n",
       "   'recovered': 0},\n",
       "  {'date': Timestamp('2020-01-24 00:00:00'),\n",
       "   'location': 'Hainan',\n",
       "   'region': 'China',\n",
       "   'lat': 19.1959,\n",
       "   'lng': 109.7453,\n",
       "   'confirmed': 8,\n",
       "   'deaths': 0,\n",
       "   'recovered': 0},\n",
       "  {'date': Timestamp('2020-01-24 00:00:00'),\n",
       "   'location': 'Hebei',\n",
       "   'region': 'China',\n",
       "   'lat': 39.549,\n",
       "   'lng': 116.1306,\n",
       "   'confirmed': 2,\n",
       "   'deaths': 1,\n",
       "   'recovered': 0},\n",
       "  {'date': Timestamp('2020-01-24 00:00:00'),\n",
       "   'location': 'Heilongjiang',\n",
       "   'region': 'China',\n",
       "   'lat': 47.862,\n",
       "   'lng': 127.7615,\n",
       "   'confirmed': 4,\n",
       "   'deaths': 1,\n",
       "   'recovered': 0},\n",
       "  {'date': Timestamp('2020-01-24 00:00:00'),\n",
       "   'location': 'Henan',\n",
       "   'region': 'China',\n",
       "   'lat': 33.882,\n",
       "   'lng': 113.614,\n",
       "   'confirmed': 9,\n",
       "   'deaths': 0,\n",
       "   'recovered': 0},\n",
       "  {'date': Timestamp('2020-01-24 00:00:00'),\n",
       "   'location': 'Hong Kong',\n",
       "   'region': 'China',\n",
       "   'lat': 22.3,\n",
       "   'lng': 114.2,\n",
       "   'confirmed': 2,\n",
       "   'deaths': 0,\n",
       "   'recovered': 0},\n",
       "  {'date': Timestamp('2020-01-24 00:00:00'),\n",
       "   'location': 'Hubei',\n",
       "   'region': 'China',\n",
       "   'lat': 30.9756,\n",
       "   'lng': 112.2707,\n",
       "   'confirmed': 549,\n",
       "   'deaths': 24,\n",
       "   'recovered': 31},\n",
       "  {'date': Timestamp('2020-01-24 00:00:00'),\n",
       "   'location': 'Hunan',\n",
       "   'region': 'China',\n",
       "   'lat': 27.6104,\n",
       "   'lng': 111.7088,\n",
       "   'confirmed': 24,\n",
       "   'deaths': 0,\n",
       "   'recovered': 0},\n",
       "  {'date': Timestamp('2020-01-24 00:00:00'),\n",
       "   'location': 'Inner Mongolia',\n",
       "   'region': 'China',\n",
       "   'lat': 44.0935,\n",
       "   'lng': 113.9448,\n",
       "   'confirmed': 1,\n",
       "   'deaths': 0,\n",
       "   'recovered': 0},\n",
       "  {'date': Timestamp('2020-01-24 00:00:00'),\n",
       "   'location': 'Jiangsu',\n",
       "   'region': 'China',\n",
       "   'lat': 32.9711,\n",
       "   'lng': 119.455,\n",
       "   'confirmed': 9,\n",
       "   'deaths': 0,\n",
       "   'recovered': 0},\n",
       "  {'date': Timestamp('2020-01-24 00:00:00'),\n",
       "   'location': 'Jiangxi',\n",
       "   'region': 'China',\n",
       "   'lat': 27.614,\n",
       "   'lng': 115.7221,\n",
       "   'confirmed': 18,\n",
       "   'deaths': 0,\n",
       "   'recovered': 0},\n",
       "  {'date': Timestamp('2020-01-24 00:00:00'),\n",
       "   'location': 'Jilin',\n",
       "   'region': 'China',\n",
       "   'lat': 43.6661,\n",
       "   'lng': 126.1923,\n",
       "   'confirmed': 3,\n",
       "   'deaths': 0,\n",
       "   'recovered': 0},\n",
       "  {'date': Timestamp('2020-01-24 00:00:00'),\n",
       "   'location': 'Liaoning',\n",
       "   'region': 'China',\n",
       "   'lat': 41.2956,\n",
       "   'lng': 122.6085,\n",
       "   'confirmed': 4,\n",
       "   'deaths': 0,\n",
       "   'recovered': 0},\n",
       "  {'date': Timestamp('2020-01-24 00:00:00'),\n",
       "   'location': 'Macau',\n",
       "   'region': 'China',\n",
       "   'lat': 22.1667,\n",
       "   'lng': 113.55,\n",
       "   'confirmed': 2,\n",
       "   'deaths': 0,\n",
       "   'recovered': 0},\n",
       "  {'date': Timestamp('2020-01-24 00:00:00'),\n",
       "   'location': 'Ningxia',\n",
       "   'region': 'China',\n",
       "   'lat': 37.2692,\n",
       "   'lng': 106.1655,\n",
       "   'confirmed': 2,\n",
       "   'deaths': 0,\n",
       "   'recovered': 0},\n",
       "  {'date': Timestamp('2020-01-24 00:00:00'),\n",
       "   'location': 'Shaanxi',\n",
       "   'region': 'China',\n",
       "   'lat': 35.1917,\n",
       "   'lng': 108.8701,\n",
       "   'confirmed': 5,\n",
       "   'deaths': 0,\n",
       "   'recovered': 0},\n",
       "  {'date': Timestamp('2020-01-24 00:00:00'),\n",
       "   'location': 'Shandong',\n",
       "   'region': 'China',\n",
       "   'lat': 36.3427,\n",
       "   'lng': 118.1498,\n",
       "   'confirmed': 15,\n",
       "   'deaths': 0,\n",
       "   'recovered': 0},\n",
       "  {'date': Timestamp('2020-01-24 00:00:00'),\n",
       "   'location': 'Shanghai',\n",
       "   'region': 'China',\n",
       "   'lat': 31.202,\n",
       "   'lng': 121.4491,\n",
       "   'confirmed': 20,\n",
       "   'deaths': 0,\n",
       "   'recovered': 1},\n",
       "  {'date': Timestamp('2020-01-24 00:00:00'),\n",
       "   'location': 'Shanxi',\n",
       "   'region': 'China',\n",
       "   'lat': 37.5777,\n",
       "   'lng': 112.2922,\n",
       "   'confirmed': 1,\n",
       "   'deaths': 0,\n",
       "   'recovered': 0},\n",
       "  {'date': Timestamp('2020-01-24 00:00:00'),\n",
       "   'location': 'Sichuan',\n",
       "   'region': 'China',\n",
       "   'lat': 30.6171,\n",
       "   'lng': 102.7103,\n",
       "   'confirmed': 15,\n",
       "   'deaths': 0,\n",
       "   'recovered': 0},\n",
       "  {'date': Timestamp('2020-01-24 00:00:00'),\n",
       "   'location': 'Tianjin',\n",
       "   'region': 'China',\n",
       "   'lat': 39.3054,\n",
       "   'lng': 117.323,\n",
       "   'confirmed': 8,\n",
       "   'deaths': 0,\n",
       "   'recovered': 0},\n",
       "  {'date': Timestamp('2020-01-24 00:00:00'),\n",
       "   'location': 'Xinjiang',\n",
       "   'region': 'China',\n",
       "   'lat': 41.1129,\n",
       "   'lng': 85.2401,\n",
       "   'confirmed': 2,\n",
       "   'deaths': 0,\n",
       "   'recovered': 0},\n",
       "  {'date': Timestamp('2020-01-24 00:00:00'),\n",
       "   'location': 'Yunnan',\n",
       "   'region': 'China',\n",
       "   'lat': 24.974,\n",
       "   'lng': 101.487,\n",
       "   'confirmed': 5,\n",
       "   'deaths': 0,\n",
       "   'recovered': 0},\n",
       "  {'date': Timestamp('2020-01-24 00:00:00'),\n",
       "   'location': 'Zhejiang',\n",
       "   'region': 'China',\n",
       "   'lat': 29.1832,\n",
       "   'lng': 120.0934,\n",
       "   'confirmed': 43,\n",
       "   'deaths': 0,\n",
       "   'recovered': 1},\n",
       "  {'date': Timestamp('2020-01-24 00:00:00'),\n",
       "   'location': 'France',\n",
       "   'region': 'France',\n",
       "   'lat': 46.2276,\n",
       "   'lng': 2.2137,\n",
       "   'confirmed': 2,\n",
       "   'deaths': 0,\n",
       "   'recovered': 0},\n",
       "  {'date': Timestamp('2020-01-24 00:00:00'),\n",
       "   'location': 'Japan',\n",
       "   'region': 'Japan',\n",
       "   'lat': 36.0,\n",
       "   'lng': 138.0,\n",
       "   'confirmed': 2,\n",
       "   'deaths': 0,\n",
       "   'recovered': 0},\n",
       "  {'date': Timestamp('2020-01-24 00:00:00'),\n",
       "   'location': 'Korea, South',\n",
       "   'region': 'Korea, South',\n",
       "   'lat': 36.0,\n",
       "   'lng': 128.0,\n",
       "   'confirmed': 2,\n",
       "   'deaths': 0,\n",
       "   'recovered': 0},\n",
       "  {'date': Timestamp('2020-01-24 00:00:00'),\n",
       "   'location': 'Singapore',\n",
       "   'region': 'Singapore',\n",
       "   'lat': 1.2833,\n",
       "   'lng': 103.8333,\n",
       "   'confirmed': 3,\n",
       "   'deaths': 0,\n",
       "   'recovered': 0},\n",
       "  {'date': Timestamp('2020-01-24 00:00:00'),\n",
       "   'location': 'Taiwan*',\n",
       "   'region': 'Taiwan*',\n",
       "   'lat': 23.7,\n",
       "   'lng': 121.0,\n",
       "   'confirmed': 3,\n",
       "   'deaths': 0,\n",
       "   'recovered': 0},\n",
       "  {'date': Timestamp('2020-01-24 00:00:00'),\n",
       "   'location': 'Thailand',\n",
       "   'region': 'Thailand',\n",
       "   'lat': 15.0,\n",
       "   'lng': 101.0,\n",
       "   'confirmed': 5,\n",
       "   'deaths': 0,\n",
       "   'recovered': 0},\n",
       "  {'date': Timestamp('2020-01-24 00:00:00'),\n",
       "   'location': 'Vietnam',\n",
       "   'region': 'Vietnam',\n",
       "   'lat': 16.0,\n",
       "   'lng': 108.0,\n",
       "   'confirmed': 2,\n",
       "   'deaths': 0,\n",
       "   'recovered': 0}]}"
      ]
     },
     "execution_count": 32,
     "metadata": {},
     "output_type": "execute_result"
    }
   ],
   "source": [
    "post['data']"
   ]
  },
  {
   "cell_type": "code",
   "execution_count": 148,
   "metadata": {
    "scrolled": false
   },
   "outputs": [
    {
     "name": "stderr",
     "output_type": "stream",
     "text": [
      "\r",
      "  0%|                                                                                           | 0/75 [00:00<?, ?it/s]"
     ]
    },
    {
     "name": "stdout",
     "output_type": "stream",
     "text": [
      "Creating object for: 1/22/20\n",
      "Creating Global Confirmed Data...\n",
      "Adding Global Death Data...\n",
      "Adding Recovered Data...\n"
     ]
    },
    {
     "name": "stderr",
     "output_type": "stream",
     "text": [
      "\r",
      "  1%|█                                                                                  | 1/75 [00:00<00:11,  6.43it/s]"
     ]
    },
    {
     "name": "stdout",
     "output_type": "stream",
     "text": [
      "Creating object for: 1/23/20\n",
      "Creating Global Confirmed Data...\n",
      "Adding Global Death Data...\n",
      "Adding Recovered Data...\n"
     ]
    },
    {
     "name": "stderr",
     "output_type": "stream",
     "text": [
      "\r",
      "  3%|██▏                                                                                | 2/75 [00:00<00:10,  6.81it/s]"
     ]
    },
    {
     "name": "stdout",
     "output_type": "stream",
     "text": [
      "Creating object for: 1/24/20\n",
      "Creating Global Confirmed Data...\n",
      "Adding Global Death Data...\n",
      "Adding Recovered Data...\n"
     ]
    },
    {
     "name": "stderr",
     "output_type": "stream",
     "text": [
      "\r",
      "  4%|███▎                                                                               | 3/75 [00:00<00:09,  7.44it/s]"
     ]
    },
    {
     "name": "stdout",
     "output_type": "stream",
     "text": [
      "Creating object for: 1/25/20\n",
      "Creating Global Confirmed Data...\n",
      "Adding Global Death Data...\n",
      "Adding Recovered Data...\n"
     ]
    },
    {
     "name": "stderr",
     "output_type": "stream",
     "text": [
      "\r",
      "  5%|████▍                                                                              | 4/75 [00:00<00:09,  7.48it/s]"
     ]
    },
    {
     "name": "stdout",
     "output_type": "stream",
     "text": [
      "Creating object for: 1/26/20\n",
      "Creating Global Confirmed Data...\n",
      "Adding Global Death Data...\n",
      "Adding Recovered Data...\n"
     ]
    },
    {
     "name": "stderr",
     "output_type": "stream",
     "text": [
      "\r",
      "  7%|█████▌                                                                             | 5/75 [00:00<00:10,  6.70it/s]"
     ]
    },
    {
     "name": "stdout",
     "output_type": "stream",
     "text": [
      "Creating object for: 1/27/20\n",
      "Creating Global Confirmed Data...\n",
      "Adding Global Death Data...\n",
      "Adding Recovered Data...\n"
     ]
    },
    {
     "name": "stderr",
     "output_type": "stream",
     "text": [
      "\r",
      "  8%|██████▋                                                                            | 6/75 [00:00<00:11,  6.23it/s]"
     ]
    },
    {
     "name": "stdout",
     "output_type": "stream",
     "text": [
      "Creating object for: 1/28/20\n",
      "Creating Global Confirmed Data...\n",
      "Adding Global Death Data...\n",
      "Adding Recovered Data...\n"
     ]
    },
    {
     "name": "stderr",
     "output_type": "stream",
     "text": [
      "\r",
      "  9%|███████▋                                                                           | 7/75 [00:01<00:11,  5.99it/s]"
     ]
    },
    {
     "name": "stdout",
     "output_type": "stream",
     "text": [
      "Creating object for: 1/29/20\n",
      "Creating Global Confirmed Data...\n",
      "Adding Global Death Data...\n",
      "Adding Recovered Data...\n"
     ]
    },
    {
     "name": "stderr",
     "output_type": "stream",
     "text": [
      "\r",
      " 11%|████████▊                                                                          | 8/75 [00:01<00:11,  5.77it/s]"
     ]
    },
    {
     "name": "stdout",
     "output_type": "stream",
     "text": [
      "Creating object for: 1/30/20\n",
      "Creating Global Confirmed Data...\n",
      "Adding Global Death Data...\n",
      "Adding Recovered Data...\n"
     ]
    },
    {
     "name": "stderr",
     "output_type": "stream",
     "text": [
      "\r",
      " 12%|█████████▉                                                                         | 9/75 [00:01<00:10,  6.11it/s]"
     ]
    },
    {
     "name": "stdout",
     "output_type": "stream",
     "text": [
      "Creating object for: 1/31/20\n",
      "Creating Global Confirmed Data...\n",
      "Adding Global Death Data...\n",
      "Adding Recovered Data...\n"
     ]
    },
    {
     "name": "stderr",
     "output_type": "stream",
     "text": [
      "\r",
      " 13%|██████████▉                                                                       | 10/75 [00:01<00:09,  6.83it/s]"
     ]
    },
    {
     "name": "stdout",
     "output_type": "stream",
     "text": [
      "Creating object for: 2/1/20\n",
      "Creating Global Confirmed Data...\n",
      "Adding Global Death Data...\n",
      "Adding Recovered Data...\n"
     ]
    },
    {
     "name": "stderr",
     "output_type": "stream",
     "text": [
      "\r",
      " 15%|████████████                                                                      | 11/75 [00:01<00:09,  6.43it/s]"
     ]
    },
    {
     "name": "stdout",
     "output_type": "stream",
     "text": [
      "Creating object for: 2/2/20\n",
      "Creating Global Confirmed Data...\n",
      "Adding Global Death Data...\n",
      "Adding Recovered Data...\n"
     ]
    },
    {
     "name": "stderr",
     "output_type": "stream",
     "text": [
      "\r",
      " 16%|█████████████                                                                     | 12/75 [00:01<00:08,  7.09it/s]"
     ]
    },
    {
     "name": "stdout",
     "output_type": "stream",
     "text": [
      "Creating object for: 2/3/20\n",
      "Creating Global Confirmed Data...\n",
      "Adding Global Death Data...\n",
      "Adding Recovered Data...\n"
     ]
    },
    {
     "name": "stderr",
     "output_type": "stream",
     "text": [
      "\r",
      " 17%|██████████████▏                                                                   | 13/75 [00:01<00:08,  7.28it/s]"
     ]
    },
    {
     "name": "stdout",
     "output_type": "stream",
     "text": [
      "Creating object for: 2/4/20\n",
      "Creating Global Confirmed Data...\n",
      "Adding Global Death Data...\n",
      "Adding Recovered Data...\n"
     ]
    },
    {
     "name": "stderr",
     "output_type": "stream",
     "text": [
      "\r",
      " 19%|███████████████▎                                                                  | 14/75 [00:02<00:09,  6.51it/s]"
     ]
    },
    {
     "name": "stdout",
     "output_type": "stream",
     "text": [
      "Creating object for: 2/5/20\n",
      "Creating Global Confirmed Data...\n",
      "Adding Global Death Data...\n",
      "Adding Recovered Data...\n"
     ]
    },
    {
     "name": "stderr",
     "output_type": "stream",
     "text": [
      "\r",
      " 20%|████████████████▍                                                                 | 15/75 [00:02<00:09,  6.64it/s]"
     ]
    },
    {
     "name": "stdout",
     "output_type": "stream",
     "text": [
      "Creating object for: 2/6/20\n",
      "Creating Global Confirmed Data...\n",
      "Adding Global Death Data...\n",
      "Adding Recovered Data...\n"
     ]
    },
    {
     "name": "stderr",
     "output_type": "stream",
     "text": [
      "\r",
      " 21%|█████████████████▍                                                                | 16/75 [00:02<00:08,  7.00it/s]"
     ]
    },
    {
     "name": "stdout",
     "output_type": "stream",
     "text": [
      "Creating object for: 2/7/20\n",
      "Creating Global Confirmed Data...\n",
      "Adding Global Death Data...\n",
      "Adding Recovered Data...\n"
     ]
    },
    {
     "name": "stderr",
     "output_type": "stream",
     "text": [
      "\r",
      " 23%|██████████████████▌                                                               | 17/75 [00:02<00:07,  7.58it/s]"
     ]
    },
    {
     "name": "stdout",
     "output_type": "stream",
     "text": [
      "Creating object for: 2/8/20\n",
      "Creating Global Confirmed Data...\n",
      "Adding Global Death Data...\n",
      "Adding Recovered Data...\n"
     ]
    },
    {
     "name": "stderr",
     "output_type": "stream",
     "text": [
      "\r",
      " 24%|███████████████████▋                                                              | 18/75 [00:02<00:08,  6.48it/s]"
     ]
    },
    {
     "name": "stdout",
     "output_type": "stream",
     "text": [
      "Creating object for: 2/9/20\n",
      "Creating Global Confirmed Data...\n",
      "Adding Global Death Data...\n",
      "Adding Recovered Data...\n"
     ]
    },
    {
     "name": "stderr",
     "output_type": "stream",
     "text": [
      "\r",
      " 25%|████████████████████▊                                                             | 19/75 [00:02<00:08,  6.49it/s]"
     ]
    },
    {
     "name": "stdout",
     "output_type": "stream",
     "text": [
      "Creating object for: 2/10/20\n",
      "Creating Global Confirmed Data...\n",
      "Adding Global Death Data...\n",
      "Adding Recovered Data...\n"
     ]
    },
    {
     "name": "stderr",
     "output_type": "stream",
     "text": [
      "\r",
      " 27%|█████████████████████▊                                                            | 20/75 [00:02<00:08,  6.57it/s]"
     ]
    },
    {
     "name": "stdout",
     "output_type": "stream",
     "text": [
      "Creating object for: 2/11/20\n",
      "Creating Global Confirmed Data...\n",
      "Adding Global Death Data...\n",
      "Adding Recovered Data...\n"
     ]
    },
    {
     "name": "stderr",
     "output_type": "stream",
     "text": [
      "\r",
      " 28%|██████████████████████▉                                                           | 21/75 [00:03<00:08,  6.70it/s]"
     ]
    },
    {
     "name": "stdout",
     "output_type": "stream",
     "text": [
      "Creating object for: 2/12/20\n",
      "Creating Global Confirmed Data...\n",
      "Adding Global Death Data...\n",
      "Adding Recovered Data...\n"
     ]
    },
    {
     "name": "stderr",
     "output_type": "stream",
     "text": [
      "\r",
      " 29%|████████████████████████                                                          | 22/75 [00:03<00:07,  6.87it/s]"
     ]
    },
    {
     "name": "stdout",
     "output_type": "stream",
     "text": [
      "Creating object for: 2/13/20\n",
      "Creating Global Confirmed Data...\n",
      "Adding Global Death Data...\n",
      "Adding Recovered Data...\n"
     ]
    },
    {
     "name": "stderr",
     "output_type": "stream",
     "text": [
      "\r",
      " 31%|█████████████████████████▏                                                        | 23/75 [00:03<00:07,  7.41it/s]"
     ]
    },
    {
     "name": "stdout",
     "output_type": "stream",
     "text": [
      "Creating object for: 2/14/20\n",
      "Creating Global Confirmed Data...\n",
      "Adding Global Death Data...\n",
      "Adding Recovered Data...\n"
     ]
    },
    {
     "name": "stderr",
     "output_type": "stream",
     "text": [
      "\r",
      " 32%|██████████████████████████▏                                                       | 24/75 [00:03<00:07,  6.73it/s]"
     ]
    },
    {
     "name": "stdout",
     "output_type": "stream",
     "text": [
      "Creating object for: 2/15/20\n",
      "Creating Global Confirmed Data...\n",
      "Adding Global Death Data...\n",
      "Adding Recovered Data...\n"
     ]
    },
    {
     "name": "stderr",
     "output_type": "stream",
     "text": [
      "\r",
      " 33%|███████████████████████████▎                                                      | 25/75 [00:03<00:07,  6.52it/s]"
     ]
    },
    {
     "name": "stdout",
     "output_type": "stream",
     "text": [
      "Creating object for: 2/16/20\n",
      "Creating Global Confirmed Data...\n",
      "Adding Global Death Data...\n",
      "Adding Recovered Data...\n"
     ]
    },
    {
     "name": "stderr",
     "output_type": "stream",
     "text": [
      "\r",
      " 35%|████████████████████████████▍                                                     | 26/75 [00:03<00:08,  5.95it/s]"
     ]
    },
    {
     "name": "stdout",
     "output_type": "stream",
     "text": [
      "Creating object for: 2/17/20\n",
      "Creating Global Confirmed Data...\n",
      "Adding Global Death Data...\n",
      "Adding Recovered Data...\n"
     ]
    },
    {
     "name": "stderr",
     "output_type": "stream",
     "text": [
      "\r",
      " 36%|█████████████████████████████▌                                                    | 27/75 [00:04<00:07,  6.33it/s]"
     ]
    },
    {
     "name": "stdout",
     "output_type": "stream",
     "text": [
      "Creating object for: 2/18/20\n",
      "Creating Global Confirmed Data...\n",
      "Adding Global Death Data...\n",
      "Adding Recovered Data...\n"
     ]
    },
    {
     "name": "stderr",
     "output_type": "stream",
     "text": [
      "\r",
      " 37%|██████████████████████████████▌                                                   | 28/75 [00:04<00:07,  6.21it/s]"
     ]
    },
    {
     "name": "stdout",
     "output_type": "stream",
     "text": [
      "Creating object for: 2/19/20\n",
      "Creating Global Confirmed Data...\n",
      "Adding Global Death Data...\n",
      "Adding Recovered Data...\n"
     ]
    },
    {
     "name": "stderr",
     "output_type": "stream",
     "text": [
      "\r",
      " 39%|███████████████████████████████▋                                                  | 29/75 [00:04<00:07,  6.39it/s]"
     ]
    },
    {
     "name": "stdout",
     "output_type": "stream",
     "text": [
      "Creating object for: 2/20/20\n",
      "Creating Global Confirmed Data...\n",
      "Adding Global Death Data...\n",
      "Adding Recovered Data...\n"
     ]
    },
    {
     "name": "stderr",
     "output_type": "stream",
     "text": [
      "\r",
      " 40%|████████████████████████████████▊                                                 | 30/75 [00:04<00:06,  6.45it/s]"
     ]
    },
    {
     "name": "stdout",
     "output_type": "stream",
     "text": [
      "Creating object for: 2/21/20\n",
      "Creating Global Confirmed Data...\n",
      "Adding Global Death Data...\n",
      "Adding Recovered Data...\n"
     ]
    },
    {
     "name": "stderr",
     "output_type": "stream",
     "text": [
      "\r",
      " 41%|█████████████████████████████████▉                                                | 31/75 [00:04<00:07,  5.75it/s]"
     ]
    },
    {
     "name": "stdout",
     "output_type": "stream",
     "text": [
      "Creating object for: 2/22/20\n",
      "Creating Global Confirmed Data...\n",
      "Adding Global Death Data...\n",
      "Adding Recovered Data...\n"
     ]
    },
    {
     "name": "stderr",
     "output_type": "stream",
     "text": [
      "\r",
      " 43%|██████████████████████████████████▉                                               | 32/75 [00:04<00:08,  5.36it/s]"
     ]
    },
    {
     "name": "stdout",
     "output_type": "stream",
     "text": [
      "Creating object for: 2/23/20\n",
      "Creating Global Confirmed Data...\n",
      "Adding Global Death Data...\n",
      "Adding Recovered Data...\n"
     ]
    },
    {
     "name": "stderr",
     "output_type": "stream",
     "text": [
      "\r",
      " 44%|████████████████████████████████████                                              | 33/75 [00:05<00:07,  5.57it/s]"
     ]
    },
    {
     "name": "stdout",
     "output_type": "stream",
     "text": [
      "Creating object for: 2/24/20\n",
      "Creating Global Confirmed Data...\n",
      "Adding Global Death Data...\n",
      "Adding Recovered Data...\n"
     ]
    },
    {
     "name": "stderr",
     "output_type": "stream",
     "text": [
      "\r",
      " 45%|█████████████████████████████████████▏                                            | 34/75 [00:05<00:07,  5.39it/s]"
     ]
    },
    {
     "name": "stdout",
     "output_type": "stream",
     "text": [
      "Creating object for: 2/25/20\n",
      "Creating Global Confirmed Data...\n",
      "Adding Global Death Data...\n",
      "Adding Recovered Data...\n"
     ]
    },
    {
     "name": "stderr",
     "output_type": "stream",
     "text": [
      "\r",
      " 47%|██████████████████████████████████████▎                                           | 35/75 [00:05<00:06,  6.19it/s]"
     ]
    },
    {
     "name": "stdout",
     "output_type": "stream",
     "text": [
      "Creating object for: 2/26/20\n",
      "Creating Global Confirmed Data...\n",
      "Adding Global Death Data...\n",
      "Adding Recovered Data...\n"
     ]
    },
    {
     "name": "stderr",
     "output_type": "stream",
     "text": [
      "\r",
      " 48%|███████████████████████████████████████▎                                          | 36/75 [00:05<00:06,  6.00it/s]"
     ]
    },
    {
     "name": "stdout",
     "output_type": "stream",
     "text": [
      "Creating object for: 2/27/20\n",
      "Creating Global Confirmed Data...\n",
      "Adding Global Death Data...\n",
      "Adding Recovered Data...\n"
     ]
    },
    {
     "name": "stderr",
     "output_type": "stream",
     "text": [
      "\r",
      " 49%|████████████████████████████████████████▍                                         | 37/75 [00:05<00:06,  6.14it/s]"
     ]
    },
    {
     "name": "stdout",
     "output_type": "stream",
     "text": [
      "Creating object for: 2/28/20\n",
      "Creating Global Confirmed Data...\n",
      "Adding Global Death Data...\n",
      "Adding Recovered Data...\n"
     ]
    },
    {
     "name": "stderr",
     "output_type": "stream",
     "text": [
      "\r",
      " 51%|█████████████████████████████████████████▌                                        | 38/75 [00:05<00:05,  6.62it/s]"
     ]
    },
    {
     "name": "stdout",
     "output_type": "stream",
     "text": [
      "Creating object for: 2/29/20\n",
      "Creating Global Confirmed Data...\n",
      "Adding Global Death Data...\n",
      "Adding Recovered Data...\n"
     ]
    },
    {
     "name": "stderr",
     "output_type": "stream",
     "text": [
      "\r",
      " 52%|██████████████████████████████████████████▋                                       | 39/75 [00:06<00:05,  6.91it/s]"
     ]
    },
    {
     "name": "stdout",
     "output_type": "stream",
     "text": [
      "Creating object for: 3/1/20\n",
      "Creating Global Confirmed Data...\n",
      "Adding Global Death Data...\n",
      "Adding Recovered Data...\n"
     ]
    },
    {
     "name": "stderr",
     "output_type": "stream",
     "text": [
      "\r",
      " 53%|███████████████████████████████████████████▋                                      | 40/75 [00:06<00:05,  6.77it/s]"
     ]
    },
    {
     "name": "stdout",
     "output_type": "stream",
     "text": [
      "Creating object for: 3/2/20\n",
      "Creating Global Confirmed Data...\n",
      "Adding Global Death Data...\n",
      "Adding Recovered Data...\n"
     ]
    },
    {
     "name": "stderr",
     "output_type": "stream",
     "text": [
      "\r",
      " 55%|████████████████████████████████████████████▊                                     | 41/75 [00:06<00:05,  6.45it/s]"
     ]
    },
    {
     "name": "stdout",
     "output_type": "stream",
     "text": [
      "Creating object for: 3/3/20\n",
      "Creating Global Confirmed Data...\n",
      "Adding Global Death Data...\n",
      "Adding Recovered Data...\n"
     ]
    },
    {
     "name": "stderr",
     "output_type": "stream",
     "text": [
      "\r",
      " 56%|█████████████████████████████████████████████▉                                    | 42/75 [00:06<00:09,  3.52it/s]"
     ]
    },
    {
     "name": "stdout",
     "output_type": "stream",
     "text": [
      "Creating object for: 3/4/20\n",
      "Creating Global Confirmed Data...\n",
      "Adding Global Death Data...\n",
      "Adding Recovered Data...\n"
     ]
    },
    {
     "name": "stderr",
     "output_type": "stream",
     "text": [
      "\r",
      " 57%|███████████████████████████████████████████████                                   | 43/75 [00:07<00:07,  4.02it/s]"
     ]
    },
    {
     "name": "stdout",
     "output_type": "stream",
     "text": [
      "Creating object for: 3/5/20\n",
      "Creating Global Confirmed Data...\n",
      "Adding Global Death Data...\n",
      "Adding Recovered Data...\n"
     ]
    },
    {
     "name": "stderr",
     "output_type": "stream",
     "text": [
      "\r",
      " 59%|████████████████████████████████████████████████                                  | 44/75 [00:07<00:07,  4.17it/s]"
     ]
    },
    {
     "name": "stdout",
     "output_type": "stream",
     "text": [
      "Creating object for: 3/6/20\n",
      "Creating Global Confirmed Data...\n",
      "Adding Global Death Data...\n",
      "Adding Recovered Data...\n"
     ]
    },
    {
     "name": "stderr",
     "output_type": "stream",
     "text": [
      "\r",
      " 60%|█████████████████████████████████████████████████▏                                | 45/75 [00:07<00:06,  4.88it/s]"
     ]
    },
    {
     "name": "stdout",
     "output_type": "stream",
     "text": [
      "Creating object for: 3/7/20\n",
      "Creating Global Confirmed Data...\n",
      "Adding Global Death Data...\n",
      "Adding Recovered Data...\n"
     ]
    },
    {
     "name": "stderr",
     "output_type": "stream",
     "text": [
      "\r",
      " 61%|██████████████████████████████████████████████████▎                               | 46/75 [00:07<00:05,  5.32it/s]"
     ]
    },
    {
     "name": "stdout",
     "output_type": "stream",
     "text": [
      "Creating object for: 3/8/20\n",
      "Creating Global Confirmed Data...\n",
      "Adding Global Death Data...\n",
      "Adding Recovered Data...\n"
     ]
    },
    {
     "name": "stderr",
     "output_type": "stream",
     "text": [
      "\r",
      " 63%|███████████████████████████████████████████████████▍                              | 47/75 [00:07<00:05,  5.47it/s]"
     ]
    },
    {
     "name": "stdout",
     "output_type": "stream",
     "text": [
      "Creating object for: 3/9/20\n",
      "Creating Global Confirmed Data...\n",
      "Adding Global Death Data...\n",
      "Adding Recovered Data...\n"
     ]
    },
    {
     "name": "stderr",
     "output_type": "stream",
     "text": [
      "\r",
      " 64%|████████████████████████████████████████████████████▍                             | 48/75 [00:07<00:05,  5.33it/s]"
     ]
    },
    {
     "name": "stdout",
     "output_type": "stream",
     "text": [
      "Creating object for: 3/10/20\n",
      "Creating Global Confirmed Data...\n",
      "Adding Global Death Data...\n",
      "Adding Recovered Data...\n"
     ]
    },
    {
     "name": "stderr",
     "output_type": "stream",
     "text": [
      "\r",
      " 65%|█████████████████████████████████████████████████████▌                            | 49/75 [00:08<00:05,  5.07it/s]"
     ]
    },
    {
     "name": "stdout",
     "output_type": "stream",
     "text": [
      "Creating object for: 3/11/20\n",
      "Creating Global Confirmed Data...\n",
      "Adding Global Death Data...\n",
      "Adding Recovered Data...\n"
     ]
    },
    {
     "name": "stderr",
     "output_type": "stream",
     "text": [
      "\r",
      " 67%|██████████████████████████████████████████████████████▋                           | 50/75 [00:08<00:04,  5.07it/s]"
     ]
    },
    {
     "name": "stdout",
     "output_type": "stream",
     "text": [
      "Creating object for: 3/12/20\n",
      "Creating Global Confirmed Data...\n",
      "Adding Global Death Data...\n",
      "Adding Recovered Data...\n"
     ]
    },
    {
     "name": "stderr",
     "output_type": "stream",
     "text": [
      "\r",
      " 68%|███████████████████████████████████████████████████████▊                          | 51/75 [00:08<00:04,  5.84it/s]"
     ]
    },
    {
     "name": "stdout",
     "output_type": "stream",
     "text": [
      "Creating object for: 3/13/20\n",
      "Creating Global Confirmed Data...\n",
      "Adding Global Death Data...\n",
      "Adding Recovered Data...\n"
     ]
    },
    {
     "name": "stderr",
     "output_type": "stream",
     "text": [
      "\r",
      " 69%|████████████████████████████████████████████████████████▊                         | 52/75 [00:08<00:03,  5.98it/s]"
     ]
    },
    {
     "name": "stdout",
     "output_type": "stream",
     "text": [
      "Creating object for: 3/14/20\n",
      "Creating Global Confirmed Data...\n",
      "Adding Global Death Data...\n",
      "Adding Recovered Data...\n"
     ]
    },
    {
     "name": "stderr",
     "output_type": "stream",
     "text": [
      "\r",
      " 71%|█████████████████████████████████████████████████████████▉                        | 53/75 [00:08<00:03,  5.83it/s]"
     ]
    },
    {
     "name": "stdout",
     "output_type": "stream",
     "text": [
      "Creating object for: 3/15/20\n",
      "Creating Global Confirmed Data...\n",
      "Adding Global Death Data...\n",
      "Adding Recovered Data...\n"
     ]
    },
    {
     "name": "stderr",
     "output_type": "stream",
     "text": [
      "\r",
      " 72%|███████████████████████████████████████████████████████████                       | 54/75 [00:08<00:03,  6.19it/s]"
     ]
    },
    {
     "name": "stdout",
     "output_type": "stream",
     "text": [
      "Creating object for: 3/16/20\n",
      "Creating Global Confirmed Data...\n",
      "Adding Global Death Data...\n",
      "Adding Recovered Data...\n"
     ]
    },
    {
     "name": "stderr",
     "output_type": "stream",
     "text": [
      "\r",
      " 73%|████████████████████████████████████████████████████████████▏                     | 55/75 [00:09<00:03,  6.46it/s]"
     ]
    },
    {
     "name": "stdout",
     "output_type": "stream",
     "text": [
      "Creating object for: 3/17/20\n",
      "Creating Global Confirmed Data...\n",
      "Adding Global Death Data...\n",
      "Adding Recovered Data...\n"
     ]
    },
    {
     "name": "stderr",
     "output_type": "stream",
     "text": [
      "\r",
      " 75%|█████████████████████████████████████████████████████████████▏                    | 56/75 [00:09<00:02,  6.37it/s]"
     ]
    },
    {
     "name": "stdout",
     "output_type": "stream",
     "text": [
      "Creating object for: 3/18/20\n",
      "Creating Global Confirmed Data...\n",
      "Adding Global Death Data...\n",
      "Adding Recovered Data...\n"
     ]
    },
    {
     "name": "stderr",
     "output_type": "stream",
     "text": [
      "\r",
      " 76%|██████████████████████████████████████████████████████████████▎                   | 57/75 [00:09<00:02,  6.78it/s]"
     ]
    },
    {
     "name": "stdout",
     "output_type": "stream",
     "text": [
      "Creating object for: 3/19/20\n",
      "Creating Global Confirmed Data...\n",
      "Adding Global Death Data...\n",
      "Adding Recovered Data...\n"
     ]
    },
    {
     "name": "stderr",
     "output_type": "stream",
     "text": [
      "\r",
      " 77%|███████████████████████████████████████████████████████████████▍                  | 58/75 [00:09<00:02,  7.17it/s]"
     ]
    },
    {
     "name": "stdout",
     "output_type": "stream",
     "text": [
      "Creating object for: 3/20/20\n",
      "Creating Global Confirmed Data...\n",
      "Adding Global Death Data...\n",
      "Adding Recovered Data...\n"
     ]
    },
    {
     "name": "stderr",
     "output_type": "stream",
     "text": [
      "\r",
      " 79%|████████████████████████████████████████████████████████████████▌                 | 59/75 [00:09<00:02,  7.63it/s]"
     ]
    },
    {
     "name": "stdout",
     "output_type": "stream",
     "text": [
      "Creating object for: 3/21/20\n",
      "Creating Global Confirmed Data...\n",
      "Adding Global Death Data...\n",
      "Adding Recovered Data...\n"
     ]
    },
    {
     "name": "stderr",
     "output_type": "stream",
     "text": [
      "\r",
      " 80%|█████████████████████████████████████████████████████████████████▌                | 60/75 [00:09<00:02,  7.23it/s]"
     ]
    },
    {
     "name": "stdout",
     "output_type": "stream",
     "text": [
      "Creating object for: 3/22/20\n",
      "Creating Global Confirmed Data...\n",
      "Adding Global Death Data...\n",
      "Adding Recovered Data...\n"
     ]
    },
    {
     "name": "stderr",
     "output_type": "stream",
     "text": [
      "\r",
      " 81%|██████████████████████████████████████████████████████████████████▋               | 61/75 [00:09<00:01,  7.24it/s]"
     ]
    },
    {
     "name": "stdout",
     "output_type": "stream",
     "text": [
      "Creating object for: 3/23/20\n",
      "Creating Global Confirmed Data...\n",
      "Adding Global Death Data...\n",
      "Adding Recovered Data...\n"
     ]
    },
    {
     "name": "stderr",
     "output_type": "stream",
     "text": [
      "\r",
      " 83%|███████████████████████████████████████████████████████████████████▊              | 62/75 [00:10<00:01,  7.25it/s]"
     ]
    },
    {
     "name": "stdout",
     "output_type": "stream",
     "text": [
      "Creating object for: 3/24/20\n",
      "Creating Global Confirmed Data...\n",
      "Adding Global Death Data...\n",
      "Adding Recovered Data...\n"
     ]
    },
    {
     "name": "stderr",
     "output_type": "stream",
     "text": [
      "\r",
      " 84%|████████████████████████████████████████████████████████████████████▉             | 63/75 [00:10<00:01,  7.11it/s]"
     ]
    },
    {
     "name": "stdout",
     "output_type": "stream",
     "text": [
      "Creating object for: 3/25/20\n",
      "Creating Global Confirmed Data...\n",
      "Adding Global Death Data...\n",
      "Adding Recovered Data...\n"
     ]
    },
    {
     "name": "stderr",
     "output_type": "stream",
     "text": [
      "\r",
      " 85%|█████████████████████████████████████████████████████████████████████▉            | 64/75 [00:10<00:01,  7.07it/s]"
     ]
    },
    {
     "name": "stdout",
     "output_type": "stream",
     "text": [
      "Creating object for: 3/26/20\n",
      "Creating Global Confirmed Data...\n",
      "Adding Global Death Data...\n",
      "Adding Recovered Data...\n"
     ]
    },
    {
     "name": "stderr",
     "output_type": "stream",
     "text": [
      "\r",
      " 87%|███████████████████████████████████████████████████████████████████████           | 65/75 [00:10<00:01,  7.39it/s]"
     ]
    },
    {
     "name": "stdout",
     "output_type": "stream",
     "text": [
      "Creating object for: 3/27/20\n",
      "Creating Global Confirmed Data...\n",
      "Adding Global Death Data...\n",
      "Adding Recovered Data...\n"
     ]
    },
    {
     "name": "stderr",
     "output_type": "stream",
     "text": [
      "\r",
      " 88%|████████████████████████████████████████████████████████████████████████▏         | 66/75 [00:10<00:01,  6.57it/s]"
     ]
    },
    {
     "name": "stdout",
     "output_type": "stream",
     "text": [
      "Creating object for: 3/28/20\n",
      "Creating Global Confirmed Data...\n",
      "Adding Global Death Data...\n",
      "Adding Recovered Data...\n"
     ]
    },
    {
     "name": "stderr",
     "output_type": "stream",
     "text": [
      "\r",
      " 89%|█████████████████████████████████████████████████████████████████████████▎        | 67/75 [00:10<00:01,  6.56it/s]"
     ]
    },
    {
     "name": "stdout",
     "output_type": "stream",
     "text": [
      "Creating object for: 3/29/20\n",
      "Creating Global Confirmed Data...\n",
      "Adding Global Death Data...\n",
      "Adding Recovered Data...\n"
     ]
    },
    {
     "name": "stderr",
     "output_type": "stream",
     "text": [
      "\r",
      " 91%|██████████████████████████████████████████████████████████████████████████▎       | 68/75 [00:10<00:01,  6.52it/s]"
     ]
    },
    {
     "name": "stdout",
     "output_type": "stream",
     "text": [
      "Creating object for: 3/30/20\n",
      "Creating Global Confirmed Data...\n",
      "Adding Global Death Data...\n",
      "Adding Recovered Data...\n"
     ]
    },
    {
     "name": "stderr",
     "output_type": "stream",
     "text": [
      "\r",
      " 92%|███████████████████████████████████████████████████████████████████████████▍      | 69/75 [00:11<00:00,  7.20it/s]"
     ]
    },
    {
     "name": "stdout",
     "output_type": "stream",
     "text": [
      "Creating object for: 3/31/20\n",
      "Creating Global Confirmed Data...\n",
      "Adding Global Death Data...\n",
      "Adding Recovered Data...\n"
     ]
    },
    {
     "name": "stderr",
     "output_type": "stream",
     "text": [
      "\r",
      " 93%|████████████████████████████████████████████████████████████████████████████▌     | 70/75 [00:11<00:00,  7.27it/s]"
     ]
    },
    {
     "name": "stdout",
     "output_type": "stream",
     "text": [
      "Creating object for: 4/1/20\n",
      "Creating Global Confirmed Data...\n",
      "Adding Global Death Data...\n",
      "Adding Recovered Data...\n"
     ]
    },
    {
     "name": "stderr",
     "output_type": "stream",
     "text": [
      "\r",
      " 95%|█████████████████████████████████████████████████████████████████████████████▋    | 71/75 [00:11<00:00,  6.71it/s]"
     ]
    },
    {
     "name": "stdout",
     "output_type": "stream",
     "text": [
      "Creating object for: 4/2/20\n",
      "Creating Global Confirmed Data...\n",
      "Adding Global Death Data...\n",
      "Adding Recovered Data...\n"
     ]
    },
    {
     "name": "stderr",
     "output_type": "stream",
     "text": [
      "\r",
      " 96%|██████████████████████████████████████████████████████████████████████████████▋   | 72/75 [00:11<00:00,  7.19it/s]"
     ]
    },
    {
     "name": "stdout",
     "output_type": "stream",
     "text": [
      "Creating object for: 4/3/20\n",
      "Creating Global Confirmed Data...\n",
      "Adding Global Death Data...\n",
      "Adding Recovered Data...\n"
     ]
    },
    {
     "name": "stderr",
     "output_type": "stream",
     "text": [
      "\r",
      " 97%|███████████████████████████████████████████████████████████████████████████████▊  | 73/75 [00:11<00:00,  7.39it/s]"
     ]
    },
    {
     "name": "stdout",
     "output_type": "stream",
     "text": [
      "Creating object for: 4/4/20\n",
      "Creating Global Confirmed Data...\n",
      "Adding Global Death Data...\n",
      "Adding Recovered Data...\n"
     ]
    },
    {
     "name": "stderr",
     "output_type": "stream",
     "text": [
      "\r",
      " 99%|████████████████████████████████████████████████████████████████████████████████▉ | 74/75 [00:11<00:00,  7.17it/s]"
     ]
    },
    {
     "name": "stdout",
     "output_type": "stream",
     "text": [
      "Creating object for: 4/5/20\n",
      "Creating Global Confirmed Data...\n",
      "Adding Global Death Data...\n",
      "Adding Recovered Data...\n"
     ]
    },
    {
     "name": "stderr",
     "output_type": "stream",
     "text": [
      "100%|██████████████████████████████████████████████████████████████████████████████████| 75/75 [00:11<00:00,  7.51it/s]\n"
     ]
    },
    {
     "name": "stdout",
     "output_type": "stream",
     "text": [
      "Adding 0 values to locations with no recovered/death data\n"
     ]
    },
    {
     "name": "stderr",
     "output_type": "stream",
     "text": [
      "0it [00:00, ?it/s]\n"
     ]
    },
    {
     "name": "stdout",
     "output_type": "stream",
     "text": [
      "Deleting locations with no geographical area...\n"
     ]
    },
    {
     "name": "stderr",
     "output_type": "stream",
     "text": [
      "0it [00:00, ?it/s]\n"
     ]
    }
   ],
   "source": [
    "\n",
    "\n",
    "for x in tqdm(dates):\n",
    "    print(f'Creating object for: {x}' )\n",
    "    date_obj = {\n",
    "        'date': pd.to_datetime(x),\n",
    "        'total_confirmed': int(confirmed_global_df[x].sum() + confirmed_states_df[x].sum()),\n",
    "        'total_deaths': int(deaths_global_df[x].sum() + deaths_states_df[x].sum()),\n",
    "        'total_recovered': int(recovered_df[x].sum()),\n",
    "        'locations': {}\n",
    "    }\n",
    "    print('Creating Global Confirmed Data...')\n",
    "    for index, row in confirmed_global_df.iterrows():\n",
    "        date = x\n",
    "        location = row['Province/State']\n",
    "        region = row['Country/Region']\n",
    "        lat = row['Lat']\n",
    "        lng = row['Long']\n",
    "        confirmed = row[x]\n",
    "        if confirmed < 1:\n",
    "            continue\n",
    "        else:\n",
    "        \n",
    "            obj = {\n",
    "                'region': region,\n",
    "                'lat': lat,\n",
    "                'lng': lng,\n",
    "                'confirmed': confirmed\n",
    "            }\n",
    "            date_obj['locations'][location] = obj\n",
    "\n",
    "\n",
    "    print('Adding Global Death Data...')\n",
    "    for index, row in deaths_global_df.iterrows():\n",
    "        date = x\n",
    "        location = row['Province/State']\n",
    "        region = row['Country/Region']\n",
    "        deaths = row[x]\n",
    " \n",
    "        for i in post['data']:\n",
    "\n",
    "            if i['date'] == pd.to_datetime(date):\n",
    "                for y in i['locations']:\n",
    "                    try:\n",
    "                        if y[location] and y[location]['region'] == region:\n",
    "                            y[location]['deaths'] = deaths\n",
    "                    except:\n",
    "                        pass\n",
    "\n",
    "    print('Adding Recovered Data...')\n",
    "    for i, r in recovered_df.iterrows():\n",
    "        date = x\n",
    "        location = r['Province/State']\n",
    "        region = r['Country/Region']\n",
    "        recovered = r[x]\n",
    "\n",
    "        for i in post['data']:\n",
    "\n",
    "            if i['date'] == pd.to_datetime(date):\n",
    "                for y in i['locations']:\n",
    "                    try: \n",
    "                        if y[location] and y[location]['region'] == region:\n",
    "                            y[location]['recovered'] = recovered\n",
    "                    except:\n",
    "                        pass\n",
    "                    \n",
    "# print('Adding 0 values to locations with no recovered/death data')\n",
    "# for x in tqdm(post['data']):\n",
    "#     for key in x['locations']:\n",
    "#         try:\n",
    "#             if x['locations'][key]['recovered']:\n",
    "#                 pass\n",
    "\n",
    "#         except:\n",
    "#             x['locations'][key]['recovered'] = 0\n",
    "\n",
    "#         try:\n",
    "#             if x['locations'][key]['deaths']:\n",
    "#                 pass\n",
    "\n",
    "#         except:\n",
    "#             x['locations'][key]['deaths'] = 0\n",
    "\n",
    "                \n",
    "# print('Deleting locations with no geographical area...')\n",
    "# for x in tqdm(post['data']):\n",
    "#     deletions = []\n",
    "#     for key in x['locations']:\n",
    "#         if x['locations'][key]['lat'] == 0.0 and x['locations'][key]['lng'] == 0.0:\n",
    "#             deletions.append(key)\n",
    "\n",
    "#     for y in deletions:\n",
    "#         if x['locations'][y]:\n",
    "#             del x['locations'][y]\n",
    "#             print(f'Deleted {y}')\n"
   ]
  },
  {
   "cell_type": "code",
   "execution_count": 56,
   "metadata": {},
   "outputs": [
    {
     "data": {
      "text/plain": [
       "{'region': 'US',\n",
       " 'state': 'South Dakota',\n",
       " 'lat': 44.90608745,\n",
       " 'lng': -103.5079318,\n",
       " 'confirmed': 0,\n",
       " 'recovered': 0,\n",
       " 'deaths': 0}"
      ]
     },
     "execution_count": 56,
     "metadata": {},
     "output_type": "execute_result"
    }
   ],
   "source": []
  },
  {
   "cell_type": "code",
   "execution_count": 149,
   "metadata": {},
   "outputs": [],
   "source": [
    "import pymongo\n",
    "import dns\n",
    "username = 'Terra925'\n",
    "password = 'H%40mmond271'\n",
    "\n",
    "conn = 'mongodb+srv://' + username +':' + password + '@cluster0-paegd.mongodb.net/test?retryWrites=true&w=majority'\n",
    "client = pymongo.MongoClient(conn)\n",
    "db = client['corona_virus']\n",
    "collection = db['cases_by_date']"
   ]
  },
  {
   "cell_type": "code",
   "execution_count": 150,
   "metadata": {},
   "outputs": [],
   "source": [
    "for x in post['data']:\n",
    "    id = collection.insert_one(x).inserted_id"
   ]
  },
  {
   "cell_type": "code",
   "execution_count": 135,
   "metadata": {},
   "outputs": [
    {
     "data": {
      "text/plain": [
       "{'date': Timestamp('2020-01-22 00:00:00'),\n",
       " 'total_confirmed': 555,\n",
       " 'total_deaths': 17,\n",
       " 'total_recovered': 28,\n",
       " 'locations': {'Anhui': {'region': 'China',\n",
       "   'lat': 31.8257,\n",
       "   'lng': 117.2264,\n",
       "   'confirmed': 1,\n",
       "   'recovered': 0,\n",
       "   'deaths': 0},\n",
       "  'Beijing': {'region': 'China',\n",
       "   'lat': 40.1824,\n",
       "   'lng': 116.4142,\n",
       "   'confirmed': 14,\n",
       "   'recovered': 0,\n",
       "   'deaths': 0},\n",
       "  'Chongqing': {'region': 'China',\n",
       "   'lat': 30.0572,\n",
       "   'lng': 107.874,\n",
       "   'confirmed': 6,\n",
       "   'recovered': 0,\n",
       "   'deaths': 0},\n",
       "  'Fujian': {'region': 'China',\n",
       "   'lat': 26.0789,\n",
       "   'lng': 117.9874,\n",
       "   'confirmed': 1,\n",
       "   'recovered': 0,\n",
       "   'deaths': 0},\n",
       "  'Guangdong': {'region': 'China',\n",
       "   'lat': 23.3417,\n",
       "   'lng': 113.4244,\n",
       "   'confirmed': 26,\n",
       "   'recovered': 0,\n",
       "   'deaths': 0},\n",
       "  'Guangxi': {'region': 'China',\n",
       "   'lat': 23.8298,\n",
       "   'lng': 108.7881,\n",
       "   'confirmed': 2,\n",
       "   'recovered': 0,\n",
       "   'deaths': 0},\n",
       "  'Guizhou': {'region': 'China',\n",
       "   'lat': 26.8154,\n",
       "   'lng': 106.8748,\n",
       "   'confirmed': 1,\n",
       "   'recovered': 0,\n",
       "   'deaths': 0},\n",
       "  'Hainan': {'region': 'China',\n",
       "   'lat': 19.1959,\n",
       "   'lng': 109.7453,\n",
       "   'confirmed': 4,\n",
       "   'recovered': 0,\n",
       "   'deaths': 0},\n",
       "  'Hebei': {'region': 'China',\n",
       "   'lat': 39.549,\n",
       "   'lng': 116.1306,\n",
       "   'confirmed': 1,\n",
       "   'recovered': 0,\n",
       "   'deaths': 0},\n",
       "  'Henan': {'region': 'China',\n",
       "   'lat': 33.882,\n",
       "   'lng': 113.614,\n",
       "   'confirmed': 5,\n",
       "   'recovered': 0,\n",
       "   'deaths': 0},\n",
       "  'Hubei': {'region': 'China',\n",
       "   'lat': 30.9756,\n",
       "   'lng': 112.2707,\n",
       "   'confirmed': 444,\n",
       "   'recovered': 0,\n",
       "   'deaths': 0},\n",
       "  'Hunan': {'region': 'China',\n",
       "   'lat': 27.6104,\n",
       "   'lng': 111.7088,\n",
       "   'confirmed': 4,\n",
       "   'recovered': 0,\n",
       "   'deaths': 0},\n",
       "  'Jiangsu': {'region': 'China',\n",
       "   'lat': 32.9711,\n",
       "   'lng': 119.455,\n",
       "   'confirmed': 1,\n",
       "   'recovered': 0,\n",
       "   'deaths': 0},\n",
       "  'Jiangxi': {'region': 'China',\n",
       "   'lat': 27.614,\n",
       "   'lng': 115.7221,\n",
       "   'confirmed': 2,\n",
       "   'recovered': 0,\n",
       "   'deaths': 0},\n",
       "  'Liaoning': {'region': 'China',\n",
       "   'lat': 41.2956,\n",
       "   'lng': 122.6085,\n",
       "   'confirmed': 2,\n",
       "   'recovered': 0,\n",
       "   'deaths': 0},\n",
       "  'Macau': {'region': 'China',\n",
       "   'lat': 22.1667,\n",
       "   'lng': 113.55,\n",
       "   'confirmed': 1,\n",
       "   'recovered': 0,\n",
       "   'deaths': 0},\n",
       "  'Ningxia': {'region': 'China',\n",
       "   'lat': 37.2692,\n",
       "   'lng': 106.1655,\n",
       "   'confirmed': 1,\n",
       "   'recovered': 0,\n",
       "   'deaths': 0},\n",
       "  'Shandong': {'region': 'China',\n",
       "   'lat': 36.3427,\n",
       "   'lng': 118.1498,\n",
       "   'confirmed': 2,\n",
       "   'recovered': 0,\n",
       "   'deaths': 0},\n",
       "  'Shanghai': {'region': 'China',\n",
       "   'lat': 31.202,\n",
       "   'lng': 121.4491,\n",
       "   'confirmed': 9,\n",
       "   'recovered': 0,\n",
       "   'deaths': 0},\n",
       "  'Shanxi': {'region': 'China',\n",
       "   'lat': 37.5777,\n",
       "   'lng': 112.2922,\n",
       "   'confirmed': 1,\n",
       "   'recovered': 0,\n",
       "   'deaths': 0},\n",
       "  'Sichuan': {'region': 'China',\n",
       "   'lat': 30.6171,\n",
       "   'lng': 102.7103,\n",
       "   'confirmed': 5,\n",
       "   'recovered': 0,\n",
       "   'deaths': 0},\n",
       "  'Tianjin': {'region': 'China',\n",
       "   'lat': 39.3054,\n",
       "   'lng': 117.323,\n",
       "   'confirmed': 4,\n",
       "   'recovered': 0,\n",
       "   'deaths': 0},\n",
       "  'Yunnan': {'region': 'China',\n",
       "   'lat': 24.974,\n",
       "   'lng': 101.487,\n",
       "   'confirmed': 1,\n",
       "   'recovered': 0,\n",
       "   'deaths': 0},\n",
       "  'Zhejiang': {'region': 'China',\n",
       "   'lat': 29.1832,\n",
       "   'lng': 120.0934,\n",
       "   'confirmed': 10,\n",
       "   'recovered': 0,\n",
       "   'deaths': 0},\n",
       "  'Japan': {'region': 'Japan',\n",
       "   'lat': 36.0,\n",
       "   'lng': 138.0,\n",
       "   'confirmed': 2,\n",
       "   'recovered': 0,\n",
       "   'deaths': 0},\n",
       "  'Korea, South': {'region': 'Korea, South',\n",
       "   'lat': 36.0,\n",
       "   'lng': 128.0,\n",
       "   'confirmed': 1,\n",
       "   'recovered': 0,\n",
       "   'deaths': 0},\n",
       "  'Taiwan*': {'region': 'Taiwan*',\n",
       "   'lat': 23.7,\n",
       "   'lng': 121.0,\n",
       "   'confirmed': 1,\n",
       "   'recovered': 0,\n",
       "   'deaths': 0},\n",
       "  'Thailand': {'region': 'Thailand',\n",
       "   'lat': 15.0,\n",
       "   'lng': 101.0,\n",
       "   'confirmed': 2,\n",
       "   'recovered': 0,\n",
       "   'deaths': 0},\n",
       "  'King': {'region': 'US',\n",
       "   'state': 'Washington',\n",
       "   'lat': 47.49137892,\n",
       "   'lng': -121.8346131,\n",
       "   'confirmed': 1,\n",
       "   'recovered': 0,\n",
       "   'deaths': 0}}}"
      ]
     },
     "execution_count": 135,
     "metadata": {},
     "output_type": "execute_result"
    }
   ],
   "source": [
    "post['data'][0]"
   ]
  },
  {
   "cell_type": "code",
   "execution_count": null,
   "metadata": {},
   "outputs": [],
   "source": [
    "    print('Creating State Confirmed Data...') \n",
    "    for index, row in confirmed_states_df.iterrows():\n",
    "        date = x\n",
    "        location = row['Admin2']\n",
    "        region = row['Country_Region']\n",
    "        state = row['Province_State']\n",
    "        lat = row['Lat']\n",
    "        lng = row['Long_']\n",
    "        confirmed = row[x]\n",
    "        if confirmed < 1:\n",
    "            continue\n",
    "        else:\n",
    "            \n",
    "            obj = {\n",
    "                'region': region,\n",
    "                'state': state,\n",
    "                'lat': lat,\n",
    "                'lng': lng,\n",
    "                'confirmed': confirmed\n",
    "            }\n",
    "            date_obj['locations'][location] = obj\n",
    "    post['data'].append(date_obj)\n",
    "\n",
    "    print('Adding States Death Data...')\n",
    "    for i, r in deaths_states_df.iterrows():\n",
    "        date = x\n",
    "        location = r['Admin2']\n",
    "        state = r['Province_State']\n",
    "        region = r['Country_Region']\n",
    "        deaths = r[x]\n",
    "\n",
    "        for i in post['data']:\n",
    "\n",
    "            if i['date'] == pd.to_datetime(date):\n",
    "                for y in i['locations']:\n",
    "                    try: \n",
    "                        if y[location] and y[location]['state'] == state:\n",
    "                            y[location]['deaths'] = deaths\n",
    "                    except:\n",
    "                        pass\n",
    "        "
   ]
  }
 ],
 "metadata": {
  "kernelspec": {
   "display_name": "Python 3",
   "language": "python",
   "name": "python3"
  },
  "language_info": {
   "codemirror_mode": {
    "name": "ipython",
    "version": 3
   },
   "file_extension": ".py",
   "mimetype": "text/x-python",
   "name": "python",
   "nbconvert_exporter": "python",
   "pygments_lexer": "ipython3",
   "version": "3.7.3"
  }
 },
 "nbformat": 4,
 "nbformat_minor": 2
}
