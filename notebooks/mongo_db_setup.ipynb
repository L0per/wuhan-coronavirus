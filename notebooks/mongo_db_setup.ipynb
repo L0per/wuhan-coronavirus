{
 "cells": [
  {
   "cell_type": "code",
   "execution_count": 1,
   "metadata": {},
   "outputs": [],
   "source": [
    "import pandas as pd\n",
    "import numpy as np"
   ]
  },
  {
   "cell_type": "markdown",
   "metadata": {},
   "source": [
    "### Load Data"
   ]
  },
  {
   "cell_type": "code",
   "execution_count": 2,
   "metadata": {},
   "outputs": [],
   "source": [
    "confirmed_xlsx = '../data/confirmed_2020-02-08.xlsx'\n",
    "recovered_xlsx = '../data/recovered_2020-02-08.xlsx'\n",
    "deaths_xlsx = '../data/deaths_2020-02-08.xlsx'\n",
    "sars_xlsx = '../data/sars_final.xlsx'"
   ]
  },
  {
   "cell_type": "code",
   "execution_count": 3,
   "metadata": {},
   "outputs": [],
   "source": [
    "confirmed = pd.read_excel(confirmed_xlsx)\n",
    "recovered = pd.read_excel(recovered_xlsx)\n",
    "deaths = pd.read_excel(deaths_xlsx)\n",
    "sars = pd.read_excel(sars_xlsx)"
   ]
  },
  {
   "cell_type": "code",
   "execution_count": 4,
   "metadata": {},
   "outputs": [
    {
     "data": {
      "text/html": [
       "<div>\n",
       "<style scoped>\n",
       "    .dataframe tbody tr th:only-of-type {\n",
       "        vertical-align: middle;\n",
       "    }\n",
       "\n",
       "    .dataframe tbody tr th {\n",
       "        vertical-align: top;\n",
       "    }\n",
       "\n",
       "    .dataframe thead th {\n",
       "        text-align: right;\n",
       "    }\n",
       "</style>\n",
       "<table border=\"1\" class=\"dataframe\">\n",
       "  <thead>\n",
       "    <tr style=\"text-align: right;\">\n",
       "      <th></th>\n",
       "      <th>Province/State</th>\n",
       "      <th>Country/Region</th>\n",
       "      <th>First Confirmed Date</th>\n",
       "      <th>Lat</th>\n",
       "      <th>Long</th>\n",
       "      <th>2020-02-05 23:00:00</th>\n",
       "      <th>2020-02-06 14:20:00</th>\n",
       "      <th>2020-02-07 22:50:00</th>\n",
       "    </tr>\n",
       "  </thead>\n",
       "  <tbody>\n",
       "    <tr>\n",
       "      <th>0</th>\n",
       "      <td>Anhui</td>\n",
       "      <td>Mainland China</td>\n",
       "      <td>2020-01-03</td>\n",
       "      <td>31.82571</td>\n",
       "      <td>117.2264</td>\n",
       "      <td>591</td>\n",
       "      <td>591</td>\n",
       "      <td>733</td>\n",
       "    </tr>\n",
       "    <tr>\n",
       "      <th>1</th>\n",
       "      <td>Beijing</td>\n",
       "      <td>Mainland China</td>\n",
       "      <td>2020-01-03</td>\n",
       "      <td>40.18238</td>\n",
       "      <td>116.4142</td>\n",
       "      <td>274</td>\n",
       "      <td>274</td>\n",
       "      <td>315</td>\n",
       "    </tr>\n",
       "    <tr>\n",
       "      <th>2</th>\n",
       "      <td>Chongqing</td>\n",
       "      <td>Mainland China</td>\n",
       "      <td>2020-01-03</td>\n",
       "      <td>30.05718</td>\n",
       "      <td>107.8740</td>\n",
       "      <td>389</td>\n",
       "      <td>400</td>\n",
       "      <td>426</td>\n",
       "    </tr>\n",
       "    <tr>\n",
       "      <th>3</th>\n",
       "      <td>Fujian</td>\n",
       "      <td>Mainland China</td>\n",
       "      <td>2020-01-03</td>\n",
       "      <td>26.07783</td>\n",
       "      <td>117.9895</td>\n",
       "      <td>215</td>\n",
       "      <td>215</td>\n",
       "      <td>239</td>\n",
       "    </tr>\n",
       "    <tr>\n",
       "      <th>4</th>\n",
       "      <td>Gansu</td>\n",
       "      <td>Mainland China</td>\n",
       "      <td>2020-01-03</td>\n",
       "      <td>36.06110</td>\n",
       "      <td>103.8343</td>\n",
       "      <td>62</td>\n",
       "      <td>62</td>\n",
       "      <td>71</td>\n",
       "    </tr>\n",
       "  </tbody>\n",
       "</table>\n",
       "</div>"
      ],
      "text/plain": [
       "  Province/State  Country/Region First Confirmed Date       Lat      Long  \\\n",
       "0          Anhui  Mainland China           2020-01-03  31.82571  117.2264   \n",
       "1        Beijing  Mainland China           2020-01-03  40.18238  116.4142   \n",
       "2      Chongqing  Mainland China           2020-01-03  30.05718  107.8740   \n",
       "3         Fujian  Mainland China           2020-01-03  26.07783  117.9895   \n",
       "4          Gansu  Mainland China           2020-01-03  36.06110  103.8343   \n",
       "\n",
       "   2020-02-05 23:00:00  2020-02-06 14:20:00  2020-02-07 22:50:00  \n",
       "0                  591                  591                  733  \n",
       "1                  274                  274                  315  \n",
       "2                  389                  400                  426  \n",
       "3                  215                  215                  239  \n",
       "4                   62                   62                   71  "
      ]
     },
     "execution_count": 4,
     "metadata": {},
     "output_type": "execute_result"
    }
   ],
   "source": [
    "confirmed.head()"
   ]
  },
  {
   "cell_type": "markdown",
   "metadata": {},
   "source": [
    "### Melt each dataframe so date columns and counts are rows"
   ]
  },
  {
   "cell_type": "code",
   "execution_count": 15,
   "metadata": {},
   "outputs": [
    {
     "data": {
      "text/html": [
       "<div>\n",
       "<style scoped>\n",
       "    .dataframe tbody tr th:only-of-type {\n",
       "        vertical-align: middle;\n",
       "    }\n",
       "\n",
       "    .dataframe tbody tr th {\n",
       "        vertical-align: top;\n",
       "    }\n",
       "\n",
       "    .dataframe thead th {\n",
       "        text-align: right;\n",
       "    }\n",
       "</style>\n",
       "<table border=\"1\" class=\"dataframe\">\n",
       "  <thead>\n",
       "    <tr style=\"text-align: right;\">\n",
       "      <th></th>\n",
       "      <th>Province/State</th>\n",
       "      <th>Country/Region</th>\n",
       "      <th>First Confirmed Date</th>\n",
       "      <th>Lat</th>\n",
       "      <th>Long</th>\n",
       "      <th>Date</th>\n",
       "      <th>Confirmed Cases</th>\n",
       "    </tr>\n",
       "  </thead>\n",
       "  <tbody>\n",
       "    <tr>\n",
       "      <th>0</th>\n",
       "      <td>Anhui</td>\n",
       "      <td>Mainland China</td>\n",
       "      <td>2020-01-03</td>\n",
       "      <td>31.82571</td>\n",
       "      <td>117.2264</td>\n",
       "      <td>2020-02-05 23:00:00</td>\n",
       "      <td>591</td>\n",
       "    </tr>\n",
       "    <tr>\n",
       "      <th>72</th>\n",
       "      <td>Anhui</td>\n",
       "      <td>Mainland China</td>\n",
       "      <td>2020-01-03</td>\n",
       "      <td>31.82571</td>\n",
       "      <td>117.2264</td>\n",
       "      <td>2020-02-06 14:20:00</td>\n",
       "      <td>591</td>\n",
       "    </tr>\n",
       "    <tr>\n",
       "      <th>144</th>\n",
       "      <td>Anhui</td>\n",
       "      <td>Mainland China</td>\n",
       "      <td>2020-01-03</td>\n",
       "      <td>31.82571</td>\n",
       "      <td>117.2264</td>\n",
       "      <td>2020-02-07 22:50:00</td>\n",
       "      <td>733</td>\n",
       "    </tr>\n",
       "    <tr>\n",
       "      <th>1</th>\n",
       "      <td>Beijing</td>\n",
       "      <td>Mainland China</td>\n",
       "      <td>2020-01-03</td>\n",
       "      <td>40.18238</td>\n",
       "      <td>116.4142</td>\n",
       "      <td>2020-02-05 23:00:00</td>\n",
       "      <td>274</td>\n",
       "    </tr>\n",
       "    <tr>\n",
       "      <th>73</th>\n",
       "      <td>Beijing</td>\n",
       "      <td>Mainland China</td>\n",
       "      <td>2020-01-03</td>\n",
       "      <td>40.18238</td>\n",
       "      <td>116.4142</td>\n",
       "      <td>2020-02-06 14:20:00</td>\n",
       "      <td>274</td>\n",
       "    </tr>\n",
       "  </tbody>\n",
       "</table>\n",
       "</div>"
      ],
      "text/plain": [
       "    Province/State  Country/Region First Confirmed Date       Lat      Long  \\\n",
       "0            Anhui  Mainland China           2020-01-03  31.82571  117.2264   \n",
       "72           Anhui  Mainland China           2020-01-03  31.82571  117.2264   \n",
       "144          Anhui  Mainland China           2020-01-03  31.82571  117.2264   \n",
       "1          Beijing  Mainland China           2020-01-03  40.18238  116.4142   \n",
       "73         Beijing  Mainland China           2020-01-03  40.18238  116.4142   \n",
       "\n",
       "                   Date  Confirmed Cases  \n",
       "0   2020-02-05 23:00:00              591  \n",
       "72  2020-02-06 14:20:00              591  \n",
       "144 2020-02-07 22:50:00              733  \n",
       "1   2020-02-05 23:00:00              274  \n",
       "73  2020-02-06 14:20:00              274  "
      ]
     },
     "execution_count": 15,
     "metadata": {},
     "output_type": "execute_result"
    }
   ],
   "source": [
    "### \n",
    "\n",
    "confirmed = confirmed.melt(id_vars=[\"Province/State\", \"Country/Region\", \"First Confirmed Date\", \"Lat\", \"Long\"], \n",
    "        var_name=\"Date\", \n",
    "        value_name=\"Confirmed Cases\").sort_values(by=['Province/State', 'Date'])\n",
    "recovered = recovered.melt(id_vars=[\"Province/State\", \"Country/Region\", \"First Confirmed Date\", \"Lat\", \"Long\"], \n",
    "        var_name=\"Date\", \n",
    "        value_name=\"Recovered Cases\").sort_values(by=['Province/State', 'Date'])\n",
    "deaths = deaths.melt(id_vars=[\"Province/State\", \"Country/Region\", \"First Confirmed Date\", \"Lat\", \"Long\"], \n",
    "        var_name=\"Date\", \n",
    "        value_name=\"Death Cases\").sort_values(by=['Province/State', 'Date'])\n",
    "\n",
    "confirmed.head()"
   ]
  },
  {
   "cell_type": "markdown",
   "metadata": {},
   "source": [
    "### Check to make sure all data frames have the same number of rows"
   ]
  },
  {
   "cell_type": "code",
   "execution_count": 16,
   "metadata": {},
   "outputs": [
    {
     "name": "stdout",
     "output_type": "stream",
     "text": [
      "<class 'pandas.core.frame.DataFrame'>\n",
      "Int64Index: 216 entries, 0 to 174\n",
      "Data columns (total 7 columns):\n",
      "Province/State          216 non-null object\n",
      "Country/Region          216 non-null object\n",
      "First Confirmed Date    216 non-null datetime64[ns]\n",
      "Lat                     216 non-null float64\n",
      "Long                    216 non-null float64\n",
      "Date                    216 non-null datetime64[ns]\n",
      "Confirmed Cases         216 non-null int64\n",
      "dtypes: datetime64[ns](2), float64(2), int64(1), object(2)\n",
      "memory usage: 13.5+ KB\n"
     ]
    }
   ],
   "source": [
    "confirmed.info()"
   ]
  },
  {
   "cell_type": "code",
   "execution_count": 17,
   "metadata": {},
   "outputs": [
    {
     "name": "stdout",
     "output_type": "stream",
     "text": [
      "<class 'pandas.core.frame.DataFrame'>\n",
      "Int64Index: 216 entries, 0 to 174\n",
      "Data columns (total 7 columns):\n",
      "Province/State          216 non-null object\n",
      "Country/Region          216 non-null object\n",
      "First Confirmed Date    216 non-null datetime64[ns]\n",
      "Lat                     216 non-null float64\n",
      "Long                    216 non-null float64\n",
      "Date                    216 non-null datetime64[ns]\n",
      "Recovered Cases         216 non-null int64\n",
      "dtypes: datetime64[ns](2), float64(2), int64(1), object(2)\n",
      "memory usage: 13.5+ KB\n"
     ]
    }
   ],
   "source": [
    "recovered.info()"
   ]
  },
  {
   "cell_type": "code",
   "execution_count": 18,
   "metadata": {},
   "outputs": [
    {
     "name": "stdout",
     "output_type": "stream",
     "text": [
      "<class 'pandas.core.frame.DataFrame'>\n",
      "Int64Index: 216 entries, 0 to 174\n",
      "Data columns (total 7 columns):\n",
      "Province/State          216 non-null object\n",
      "Country/Region          216 non-null object\n",
      "First Confirmed Date    216 non-null datetime64[ns]\n",
      "Lat                     216 non-null float64\n",
      "Long                    216 non-null float64\n",
      "Date                    216 non-null datetime64[ns]\n",
      "Death Cases             216 non-null int64\n",
      "dtypes: datetime64[ns](2), float64(2), int64(1), object(2)\n",
      "memory usage: 13.5+ KB\n"
     ]
    }
   ],
   "source": [
    "deaths.info()"
   ]
  },
  {
   "cell_type": "markdown",
   "metadata": {},
   "source": [
    "### Merge all data frames to one data frame"
   ]
  },
  {
   "cell_type": "code",
   "execution_count": 19,
   "metadata": {},
   "outputs": [],
   "source": [
    "df = pd.concat([confirmed, recovered, deaths], axis=1)\n",
    "### Remove duplicated columns\n",
    "df = df.iloc[:, [0,1,2,3,4,5,6,13,20]]"
   ]
  },
  {
   "cell_type": "code",
   "execution_count": 20,
   "metadata": {},
   "outputs": [
    {
     "name": "stdout",
     "output_type": "stream",
     "text": [
      "<class 'pandas.core.frame.DataFrame'>\n",
      "Int64Index: 216 entries, 0 to 215\n",
      "Data columns (total 9 columns):\n",
      "Province/State          216 non-null object\n",
      "Country/Region          216 non-null object\n",
      "First Confirmed Date    216 non-null datetime64[ns]\n",
      "Lat                     216 non-null float64\n",
      "Long                    216 non-null float64\n",
      "Date                    216 non-null datetime64[ns]\n",
      "Confirmed Cases         216 non-null int64\n",
      "Recovered Cases         216 non-null int64\n",
      "Death Cases             216 non-null int64\n",
      "dtypes: datetime64[ns](2), float64(2), int64(3), object(2)\n",
      "memory usage: 16.9+ KB\n"
     ]
    }
   ],
   "source": [
    "df.info()"
   ]
  },
  {
   "cell_type": "markdown",
   "metadata": {},
   "source": [
    "### Sort data by Province/State then by Date"
   ]
  },
  {
   "cell_type": "code",
   "execution_count": 21,
   "metadata": {},
   "outputs": [],
   "source": [
    "df = df.sort_values(by=['Province/State', 'Date'])"
   ]
  },
  {
   "cell_type": "code",
   "execution_count": 22,
   "metadata": {},
   "outputs": [
    {
     "data": {
      "text/html": [
       "<div>\n",
       "<style scoped>\n",
       "    .dataframe tbody tr th:only-of-type {\n",
       "        vertical-align: middle;\n",
       "    }\n",
       "\n",
       "    .dataframe tbody tr th {\n",
       "        vertical-align: top;\n",
       "    }\n",
       "\n",
       "    .dataframe thead th {\n",
       "        text-align: right;\n",
       "    }\n",
       "</style>\n",
       "<table border=\"1\" class=\"dataframe\">\n",
       "  <thead>\n",
       "    <tr style=\"text-align: right;\">\n",
       "      <th></th>\n",
       "      <th>Province/State</th>\n",
       "      <th>Country/Region</th>\n",
       "      <th>First Confirmed Date</th>\n",
       "      <th>Lat</th>\n",
       "      <th>Long</th>\n",
       "      <th>Date</th>\n",
       "      <th>Confirmed Cases</th>\n",
       "      <th>Recovered Cases</th>\n",
       "      <th>Death Cases</th>\n",
       "    </tr>\n",
       "  </thead>\n",
       "  <tbody>\n",
       "    <tr>\n",
       "      <th>0</th>\n",
       "      <td>Anhui</td>\n",
       "      <td>Mainland China</td>\n",
       "      <td>2020-01-03</td>\n",
       "      <td>31.82571</td>\n",
       "      <td>117.2264</td>\n",
       "      <td>2020-02-05 23:00:00</td>\n",
       "      <td>591</td>\n",
       "      <td>23</td>\n",
       "      <td>0</td>\n",
       "    </tr>\n",
       "    <tr>\n",
       "      <th>72</th>\n",
       "      <td>Anhui</td>\n",
       "      <td>Mainland China</td>\n",
       "      <td>2020-01-03</td>\n",
       "      <td>31.82571</td>\n",
       "      <td>117.2264</td>\n",
       "      <td>2020-02-06 14:20:00</td>\n",
       "      <td>591</td>\n",
       "      <td>34</td>\n",
       "      <td>0</td>\n",
       "    </tr>\n",
       "    <tr>\n",
       "      <th>144</th>\n",
       "      <td>Anhui</td>\n",
       "      <td>Mainland China</td>\n",
       "      <td>2020-01-03</td>\n",
       "      <td>31.82571</td>\n",
       "      <td>117.2264</td>\n",
       "      <td>2020-02-07 22:50:00</td>\n",
       "      <td>733</td>\n",
       "      <td>47</td>\n",
       "      <td>0</td>\n",
       "    </tr>\n",
       "    <tr>\n",
       "      <th>1</th>\n",
       "      <td>Beijing</td>\n",
       "      <td>Mainland China</td>\n",
       "      <td>2020-01-03</td>\n",
       "      <td>40.18238</td>\n",
       "      <td>116.4142</td>\n",
       "      <td>2020-02-05 23:00:00</td>\n",
       "      <td>274</td>\n",
       "      <td>31</td>\n",
       "      <td>1</td>\n",
       "    </tr>\n",
       "    <tr>\n",
       "      <th>73</th>\n",
       "      <td>Beijing</td>\n",
       "      <td>Mainland China</td>\n",
       "      <td>2020-01-03</td>\n",
       "      <td>40.18238</td>\n",
       "      <td>116.4142</td>\n",
       "      <td>2020-02-06 14:20:00</td>\n",
       "      <td>274</td>\n",
       "      <td>31</td>\n",
       "      <td>1</td>\n",
       "    </tr>\n",
       "  </tbody>\n",
       "</table>\n",
       "</div>"
      ],
      "text/plain": [
       "    Province/State  Country/Region First Confirmed Date       Lat      Long  \\\n",
       "0            Anhui  Mainland China           2020-01-03  31.82571  117.2264   \n",
       "72           Anhui  Mainland China           2020-01-03  31.82571  117.2264   \n",
       "144          Anhui  Mainland China           2020-01-03  31.82571  117.2264   \n",
       "1          Beijing  Mainland China           2020-01-03  40.18238  116.4142   \n",
       "73         Beijing  Mainland China           2020-01-03  40.18238  116.4142   \n",
       "\n",
       "                   Date  Confirmed Cases  Recovered Cases  Death Cases  \n",
       "0   2020-02-05 23:00:00              591               23            0  \n",
       "72  2020-02-06 14:20:00              591               34            0  \n",
       "144 2020-02-07 22:50:00              733               47            0  \n",
       "1   2020-02-05 23:00:00              274               31            1  \n",
       "73  2020-02-06 14:20:00              274               31            1  "
      ]
     },
     "execution_count": 22,
     "metadata": {},
     "output_type": "execute_result"
    }
   ],
   "source": [
    "df.head()"
   ]
  },
  {
   "cell_type": "markdown",
   "metadata": {},
   "source": [
    "### Set up MongoDB Connection"
   ]
  },
  {
   "cell_type": "code",
   "execution_count": 23,
   "metadata": {},
   "outputs": [],
   "source": [
    "import pymongo\n",
    "import dns\n",
    "username = 'Terra925'\n",
    "password = 'H%40mmond271'"
   ]
  },
  {
   "cell_type": "code",
   "execution_count": 24,
   "metadata": {},
   "outputs": [],
   "source": [
    "conn = 'mongodb+srv://' + username +':' + password + '@cluster0-paegd.mongodb.net/test?retryWrites=true&w=majority'\n",
    "client = pymongo.MongoClient(conn)\n",
    "db = client['corona_virus']\n",
    "collection = db['cases']"
   ]
  },
  {
   "cell_type": "markdown",
   "metadata": {},
   "source": [
    "### Itterate through rows of df, create a post object, then post new document to MongoDB database"
   ]
  },
  {
   "cell_type": "code",
   "execution_count": 25,
   "metadata": {},
   "outputs": [],
   "source": [
    "\n",
    "for index, row in df.iterrows():\n",
    "    post = {\n",
    "        'location': row['Province/State'],\n",
    "        'region': row['Country/Region'],\n",
    "        'firstConfirmedDate': row['First Confirmed Date'],\n",
    "        'lat': row['Lat'],\n",
    "        'lng': row['Long'],\n",
    "        'cases': {\n",
    "            'date': row['Date'],\n",
    "            'confirmed': row['Confirmed Cases'],\n",
    "            'recovered': row['Recovered Cases'],\n",
    "            'deaths': row['Death Cases']\n",
    "        }\n",
    "    }\n",
    "    id = collection.insert_one(post).inserted_id\n"
   ]
  },
  {
   "cell_type": "code",
   "execution_count": 26,
   "metadata": {},
   "outputs": [
    {
     "data": {
      "text/plain": [
       "{'location': 'Zhejiang',\n",
       " 'region': 'Mainland China',\n",
       " 'firstConfirmedDate': Timestamp('2020-01-03 00:00:00'),\n",
       " 'lat': 29.18251,\n",
       " 'lng': 120.0985,\n",
       " 'cases': {'date': Timestamp('2020-02-07 22:50:00'),\n",
       "  'confirmed': 1048,\n",
       "  'recovered': 127,\n",
       "  'deaths': 0},\n",
       " '_id': ObjectId('5e3f25879140a2ab951d9b53')}"
      ]
     },
     "execution_count": 26,
     "metadata": {},
     "output_type": "execute_result"
    }
   ],
   "source": [
    "post"
   ]
  },
  {
   "cell_type": "markdown",
   "metadata": {},
   "source": [
    "### Create a new collection with dates as the indexes"
   ]
  },
  {
   "cell_type": "code",
   "execution_count": 27,
   "metadata": {},
   "outputs": [],
   "source": [
    "collection = db['cases_by_date']"
   ]
  },
  {
   "cell_type": "markdown",
   "metadata": {},
   "source": [
    "#### Create DF that groups by dates then by province/state"
   ]
  },
  {
   "cell_type": "code",
   "execution_count": 28,
   "metadata": {},
   "outputs": [
    {
     "data": {
      "text/html": [
       "<div>\n",
       "<style scoped>\n",
       "    .dataframe tbody tr th:only-of-type {\n",
       "        vertical-align: middle;\n",
       "    }\n",
       "\n",
       "    .dataframe tbody tr th {\n",
       "        vertical-align: top;\n",
       "    }\n",
       "\n",
       "    .dataframe thead th {\n",
       "        text-align: right;\n",
       "    }\n",
       "</style>\n",
       "<table border=\"1\" class=\"dataframe\">\n",
       "  <thead>\n",
       "    <tr style=\"text-align: right;\">\n",
       "      <th></th>\n",
       "      <th>Date</th>\n",
       "      <th>Province/State</th>\n",
       "      <th>Country/Region</th>\n",
       "      <th>First Confirmed Date</th>\n",
       "      <th>Lat</th>\n",
       "      <th>Long</th>\n",
       "      <th>Confirmed Cases</th>\n",
       "      <th>Recovered Cases</th>\n",
       "      <th>Death Cases</th>\n",
       "    </tr>\n",
       "  </thead>\n",
       "  <tbody>\n",
       "    <tr>\n",
       "      <th>0</th>\n",
       "      <td>2020-02-05 23:00:00</td>\n",
       "      <td>Anhui</td>\n",
       "      <td>Mainland China</td>\n",
       "      <td>2020-01-03</td>\n",
       "      <td>31.82571</td>\n",
       "      <td>117.2264</td>\n",
       "      <td>591</td>\n",
       "      <td>23</td>\n",
       "      <td>0</td>\n",
       "    </tr>\n",
       "    <tr>\n",
       "      <th>1</th>\n",
       "      <td>2020-02-05 23:00:00</td>\n",
       "      <td>Beijing</td>\n",
       "      <td>Mainland China</td>\n",
       "      <td>2020-01-03</td>\n",
       "      <td>40.18238</td>\n",
       "      <td>116.4142</td>\n",
       "      <td>274</td>\n",
       "      <td>31</td>\n",
       "      <td>1</td>\n",
       "    </tr>\n",
       "    <tr>\n",
       "      <th>2</th>\n",
       "      <td>2020-02-05 23:00:00</td>\n",
       "      <td>Belgium</td>\n",
       "      <td>Belgium</td>\n",
       "      <td>2020-02-04</td>\n",
       "      <td>50.50390</td>\n",
       "      <td>4.4699</td>\n",
       "      <td>1</td>\n",
       "      <td>0</td>\n",
       "      <td>0</td>\n",
       "    </tr>\n",
       "    <tr>\n",
       "      <th>3</th>\n",
       "      <td>2020-02-05 23:00:00</td>\n",
       "      <td>Boston, MA</td>\n",
       "      <td>US</td>\n",
       "      <td>2020-02-02</td>\n",
       "      <td>42.36010</td>\n",
       "      <td>-71.0589</td>\n",
       "      <td>1</td>\n",
       "      <td>0</td>\n",
       "      <td>0</td>\n",
       "    </tr>\n",
       "    <tr>\n",
       "      <th>4</th>\n",
       "      <td>2020-02-05 23:00:00</td>\n",
       "      <td>British Columbia</td>\n",
       "      <td>Canada</td>\n",
       "      <td>2020-01-28</td>\n",
       "      <td>49.28270</td>\n",
       "      <td>-123.1210</td>\n",
       "      <td>2</td>\n",
       "      <td>0</td>\n",
       "      <td>0</td>\n",
       "    </tr>\n",
       "  </tbody>\n",
       "</table>\n",
       "</div>"
      ],
      "text/plain": [
       "                 Date    Province/State  Country/Region First Confirmed Date  \\\n",
       "0 2020-02-05 23:00:00             Anhui  Mainland China           2020-01-03   \n",
       "1 2020-02-05 23:00:00           Beijing  Mainland China           2020-01-03   \n",
       "2 2020-02-05 23:00:00           Belgium         Belgium           2020-02-04   \n",
       "3 2020-02-05 23:00:00        Boston, MA              US           2020-02-02   \n",
       "4 2020-02-05 23:00:00  British Columbia          Canada           2020-01-28   \n",
       "\n",
       "        Lat      Long  Confirmed Cases  Recovered Cases  Death Cases  \n",
       "0  31.82571  117.2264              591               23            0  \n",
       "1  40.18238  116.4142              274               31            1  \n",
       "2  50.50390    4.4699                1                0            0  \n",
       "3  42.36010  -71.0589                1                0            0  \n",
       "4  49.28270 -123.1210                2                0            0  "
      ]
     },
     "execution_count": 28,
     "metadata": {},
     "output_type": "execute_result"
    }
   ],
   "source": [
    "by_date = df.groupby([\"Date\", \"Province/State\"]).max().reset_index()\n",
    "by_date.head()\n",
    "\n"
   ]
  },
  {
   "cell_type": "markdown",
   "metadata": {},
   "source": [
    "#### Create DF that groups by dates"
   ]
  },
  {
   "cell_type": "code",
   "execution_count": 29,
   "metadata": {},
   "outputs": [
    {
     "data": {
      "text/html": [
       "<div>\n",
       "<style scoped>\n",
       "    .dataframe tbody tr th:only-of-type {\n",
       "        vertical-align: middle;\n",
       "    }\n",
       "\n",
       "    .dataframe tbody tr th {\n",
       "        vertical-align: top;\n",
       "    }\n",
       "\n",
       "    .dataframe thead th {\n",
       "        text-align: right;\n",
       "    }\n",
       "</style>\n",
       "<table border=\"1\" class=\"dataframe\">\n",
       "  <thead>\n",
       "    <tr style=\"text-align: right;\">\n",
       "      <th></th>\n",
       "      <th>Date</th>\n",
       "      <th>Confirmed Cases</th>\n",
       "      <th>Recovered Cases</th>\n",
       "      <th>Death Cases</th>\n",
       "    </tr>\n",
       "  </thead>\n",
       "  <tbody>\n",
       "    <tr>\n",
       "      <th>0</th>\n",
       "      <td>2020-02-05 23:00:00</td>\n",
       "      <td>28274</td>\n",
       "      <td>1198</td>\n",
       "      <td>565</td>\n",
       "    </tr>\n",
       "    <tr>\n",
       "      <th>1</th>\n",
       "      <td>2020-02-06 14:20:00</td>\n",
       "      <td>28353</td>\n",
       "      <td>1382</td>\n",
       "      <td>565</td>\n",
       "    </tr>\n",
       "    <tr>\n",
       "      <th>2</th>\n",
       "      <td>2020-02-07 22:50:00</td>\n",
       "      <td>34899</td>\n",
       "      <td>1995</td>\n",
       "      <td>724</td>\n",
       "    </tr>\n",
       "  </tbody>\n",
       "</table>\n",
       "</div>"
      ],
      "text/plain": [
       "                 Date  Confirmed Cases  Recovered Cases  Death Cases\n",
       "0 2020-02-05 23:00:00            28274             1198          565\n",
       "1 2020-02-06 14:20:00            28353             1382          565\n",
       "2 2020-02-07 22:50:00            34899             1995          724"
      ]
     },
     "execution_count": 29,
     "metadata": {},
     "output_type": "execute_result"
    }
   ],
   "source": [
    "totals = by_date.groupby(\"Date\")[\"Confirmed Cases\", \"Recovered Cases\", \"Death Cases\"].sum().reset_index()\n",
    "totals.head()"
   ]
  },
  {
   "cell_type": "markdown",
   "metadata": {},
   "source": [
    "### Create the documents and upload to MongoDB Collection"
   ]
  },
  {
   "cell_type": "code",
   "execution_count": 30,
   "metadata": {},
   "outputs": [],
   "source": [
    "### iterate through totals df so there is only one document per day\n",
    "for index, row in totals.iterrows():\n",
    "    date = row['Date']\n",
    "    ### base post object\n",
    "    post = {\n",
    "        'date': row['Date'],\n",
    "        'total_confirmed': row['Confirmed Cases'],\n",
    "        'total_recovered': row['Recovered Cases'],\n",
    "        'total_deaths': row['Death Cases'],\n",
    "        'locations': {} ### this will be updated in the next itteration\n",
    "        }\n",
    "    ### iterate through by_date df to store relevant data\n",
    "    for i, r in by_date.iterrows():\n",
    "        ### only add to post if the date in by_date df matches the date in current itteration of totals df\n",
    "        if r['Date'] == date:\n",
    "            location = r['Province/State']\n",
    "            ### temporary object to hold data that will be added to \"locations\" in post\n",
    "            obj = {\n",
    "                        \"region\": r['Country/Region'],\n",
    "                        \"lat\": r[\"Lat\"],\n",
    "                        \"lng\": r[\"Long\"],\n",
    "                        \"confirmed\": r[\"Confirmed Cases\"],\n",
    "                        \"recovered\": r[\"Recovered Cases\"],\n",
    "                        \"deaths\": r[\"Death Cases\"]\n",
    "                    }\n",
    "            ### add obj data to posted data\n",
    "            post['locations'][location] = obj\n",
    "            \n",
    "            ### upload post to Mongo DB\n",
    "        else:\n",
    "            \n",
    "            continue\n",
    "    id = collection.insert_one(post).inserted_id\n"
   ]
  },
  {
   "cell_type": "markdown",
   "metadata": {},
   "source": [
    "### Load SARS data to MongoDB"
   ]
  },
  {
   "cell_type": "code",
   "execution_count": 31,
   "metadata": {},
   "outputs": [
    {
     "data": {
      "text/html": [
       "<div>\n",
       "<style scoped>\n",
       "    .dataframe tbody tr th:only-of-type {\n",
       "        vertical-align: middle;\n",
       "    }\n",
       "\n",
       "    .dataframe tbody tr th {\n",
       "        vertical-align: top;\n",
       "    }\n",
       "\n",
       "    .dataframe thead th {\n",
       "        text-align: right;\n",
       "    }\n",
       "</style>\n",
       "<table border=\"1\" class=\"dataframe\">\n",
       "  <thead>\n",
       "    <tr style=\"text-align: right;\">\n",
       "      <th></th>\n",
       "      <th>Unnamed: 0</th>\n",
       "      <th>Date</th>\n",
       "      <th>Infected</th>\n",
       "      <th>Mortality</th>\n",
       "      <th>URL</th>\n",
       "    </tr>\n",
       "  </thead>\n",
       "  <tbody>\n",
       "    <tr>\n",
       "      <th>0</th>\n",
       "      <td>0</td>\n",
       "      <td>2003-03-17</td>\n",
       "      <td>167</td>\n",
       "      <td>4</td>\n",
       "      <td>https://www.who.int/csr/sars/country/table/en/</td>\n",
       "    </tr>\n",
       "    <tr>\n",
       "      <th>1</th>\n",
       "      <td>1</td>\n",
       "      <td>2003-03-18</td>\n",
       "      <td>219</td>\n",
       "      <td>4</td>\n",
       "      <td>https://www.who.int/csr/sars/country/tablemarc...</td>\n",
       "    </tr>\n",
       "    <tr>\n",
       "      <th>2</th>\n",
       "      <td>2</td>\n",
       "      <td>2003-03-19</td>\n",
       "      <td>264</td>\n",
       "      <td>9</td>\n",
       "      <td>https://www.who.int/csr/sars/country/2003_19_0...</td>\n",
       "    </tr>\n",
       "    <tr>\n",
       "      <th>3</th>\n",
       "      <td>3</td>\n",
       "      <td>2003-03-20</td>\n",
       "      <td>306</td>\n",
       "      <td>10</td>\n",
       "      <td>https://www.who.int/csr/sars/country/2003_03_2...</td>\n",
       "    </tr>\n",
       "    <tr>\n",
       "      <th>4</th>\n",
       "      <td>4</td>\n",
       "      <td>2003-03-21</td>\n",
       "      <td>350</td>\n",
       "      <td>10</td>\n",
       "      <td>https://www.who.int/csr/sars/country/2003_03_2...</td>\n",
       "    </tr>\n",
       "  </tbody>\n",
       "</table>\n",
       "</div>"
      ],
      "text/plain": [
       "   Unnamed: 0       Date  Infected  Mortality  \\\n",
       "0           0 2003-03-17       167          4   \n",
       "1           1 2003-03-18       219          4   \n",
       "2           2 2003-03-19       264          9   \n",
       "3           3 2003-03-20       306         10   \n",
       "4           4 2003-03-21       350         10   \n",
       "\n",
       "                                                 URL  \n",
       "0     https://www.who.int/csr/sars/country/table/en/  \n",
       "1  https://www.who.int/csr/sars/country/tablemarc...  \n",
       "2  https://www.who.int/csr/sars/country/2003_19_0...  \n",
       "3  https://www.who.int/csr/sars/country/2003_03_2...  \n",
       "4  https://www.who.int/csr/sars/country/2003_03_2...  "
      ]
     },
     "execution_count": 31,
     "metadata": {},
     "output_type": "execute_result"
    }
   ],
   "source": [
    "sars.head()"
   ]
  },
  {
   "cell_type": "code",
   "execution_count": 7,
   "metadata": {},
   "outputs": [],
   "source": [
    "del sars[\"Unnamed: 0\"]"
   ]
  },
  {
   "cell_type": "code",
   "execution_count": 8,
   "metadata": {},
   "outputs": [],
   "source": [
    "collection = db['sars']"
   ]
  },
  {
   "cell_type": "code",
   "execution_count": 10,
   "metadata": {},
   "outputs": [],
   "source": [
    "for index, row in sars.iterrows():\n",
    "    post = {\n",
    "        'date': row['Date'],\n",
    "        'infected': row['Infected'],\n",
    "        'deaths': row['Mortality'] \n",
    "    }\n",
    "    id = collection.insert_one(post).inserted_id"
   ]
  },
  {
   "cell_type": "code",
   "execution_count": null,
   "metadata": {},
   "outputs": [],
   "source": []
  }
 ],
 "metadata": {
  "kernelspec": {
   "display_name": "Python 3",
   "language": "python",
   "name": "python3"
  },
  "language_info": {
   "codemirror_mode": {
    "name": "ipython",
    "version": 3
   },
   "file_extension": ".py",
   "mimetype": "text/x-python",
   "name": "python",
   "nbconvert_exporter": "python",
   "pygments_lexer": "ipython3",
   "version": "3.7.3"
  }
 },
 "nbformat": 4,
 "nbformat_minor": 2
}
