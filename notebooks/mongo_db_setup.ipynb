{
 "cells": [
  {
   "cell_type": "code",
   "execution_count": 1,
   "metadata": {},
   "outputs": [],
   "source": [
    "import pandas as pd\n",
    "import numpy as np"
   ]
  },
  {
   "cell_type": "markdown",
   "metadata": {},
   "source": [
    "### Load Data"
   ]
  },
  {
   "cell_type": "code",
   "execution_count": 2,
   "metadata": {},
   "outputs": [],
   "source": [
    "confirmed_xlsx = '../data/confirmed.xlsx'\n",
    "recovered_xlsx = '../data/recovered.xlsx'\n",
    "deaths_xlsx = '../data/deaths.xlsx'"
   ]
  },
  {
   "cell_type": "code",
   "execution_count": 3,
   "metadata": {},
   "outputs": [],
   "source": [
    "confirmed = pd.read_excel(confirmed_xlsx)\n",
    "recovered = pd.read_excel(recovered_xlsx)\n",
    "deaths = pd.read_excel(deaths_xlsx)"
   ]
  },
  {
   "cell_type": "code",
   "execution_count": 4,
   "metadata": {},
   "outputs": [
    {
     "data": {
      "text/html": [
       "<div>\n",
       "<style scoped>\n",
       "    .dataframe tbody tr th:only-of-type {\n",
       "        vertical-align: middle;\n",
       "    }\n",
       "\n",
       "    .dataframe tbody tr th {\n",
       "        vertical-align: top;\n",
       "    }\n",
       "\n",
       "    .dataframe thead th {\n",
       "        text-align: right;\n",
       "    }\n",
       "</style>\n",
       "<table border=\"1\" class=\"dataframe\">\n",
       "  <thead>\n",
       "    <tr style=\"text-align: right;\">\n",
       "      <th></th>\n",
       "      <th>Province/State</th>\n",
       "      <th>Country/Region</th>\n",
       "      <th>First Confirmed Date</th>\n",
       "      <th>Lat</th>\n",
       "      <th>Long</th>\n",
       "      <th>2020-01-21 22:00:00</th>\n",
       "      <th>2020-01-22 12:00:00</th>\n",
       "      <th>2020-01-23 12:00:00</th>\n",
       "      <th>2020-01-24 12:00:00</th>\n",
       "      <th>2020-01-25 22:00:00</th>\n",
       "      <th>2020-01-26 23:00:00</th>\n",
       "      <th>2020-01-27 20:30:00</th>\n",
       "      <th>2020-01-28 23:00:00</th>\n",
       "      <th>2020-01-29 21:00:00</th>\n",
       "      <th>2020-01-30 11:00:00</th>\n",
       "      <th>2020-01-31 19:00:00</th>\n",
       "      <th>2020-02-01 10:00:00</th>\n",
       "      <th>2020-02-02 21:00:00</th>\n",
       "      <th>2020-02-03 21:00:00</th>\n",
       "      <th>2020-02-04 22:00:00</th>\n",
       "    </tr>\n",
       "  </thead>\n",
       "  <tbody>\n",
       "    <tr>\n",
       "      <th>0</th>\n",
       "      <td>Anhui</td>\n",
       "      <td>Mainland China</td>\n",
       "      <td>2020-01-03</td>\n",
       "      <td>31.82571</td>\n",
       "      <td>117.2264</td>\n",
       "      <td>0</td>\n",
       "      <td>1</td>\n",
       "      <td>9</td>\n",
       "      <td>15</td>\n",
       "      <td>60</td>\n",
       "      <td>70</td>\n",
       "      <td>106</td>\n",
       "      <td>152</td>\n",
       "      <td>200</td>\n",
       "      <td>200</td>\n",
       "      <td>237</td>\n",
       "      <td>297</td>\n",
       "      <td>408</td>\n",
       "      <td>480</td>\n",
       "      <td>530</td>\n",
       "    </tr>\n",
       "    <tr>\n",
       "      <th>1</th>\n",
       "      <td>Beijing</td>\n",
       "      <td>Mainland China</td>\n",
       "      <td>2020-01-03</td>\n",
       "      <td>40.18238</td>\n",
       "      <td>116.4142</td>\n",
       "      <td>10</td>\n",
       "      <td>14</td>\n",
       "      <td>22</td>\n",
       "      <td>36</td>\n",
       "      <td>51</td>\n",
       "      <td>68</td>\n",
       "      <td>80</td>\n",
       "      <td>91</td>\n",
       "      <td>111</td>\n",
       "      <td>114</td>\n",
       "      <td>139</td>\n",
       "      <td>168</td>\n",
       "      <td>191</td>\n",
       "      <td>212</td>\n",
       "      <td>228</td>\n",
       "    </tr>\n",
       "    <tr>\n",
       "      <th>2</th>\n",
       "      <td>Chongqing</td>\n",
       "      <td>Mainland China</td>\n",
       "      <td>2020-01-03</td>\n",
       "      <td>30.05718</td>\n",
       "      <td>107.8740</td>\n",
       "      <td>5</td>\n",
       "      <td>6</td>\n",
       "      <td>9</td>\n",
       "      <td>27</td>\n",
       "      <td>75</td>\n",
       "      <td>110</td>\n",
       "      <td>132</td>\n",
       "      <td>147</td>\n",
       "      <td>165</td>\n",
       "      <td>182</td>\n",
       "      <td>238</td>\n",
       "      <td>247</td>\n",
       "      <td>300</td>\n",
       "      <td>337</td>\n",
       "      <td>366</td>\n",
       "    </tr>\n",
       "    <tr>\n",
       "      <th>3</th>\n",
       "      <td>Fujian</td>\n",
       "      <td>Mainland China</td>\n",
       "      <td>2020-01-03</td>\n",
       "      <td>26.07783</td>\n",
       "      <td>117.9895</td>\n",
       "      <td>0</td>\n",
       "      <td>1</td>\n",
       "      <td>5</td>\n",
       "      <td>10</td>\n",
       "      <td>18</td>\n",
       "      <td>35</td>\n",
       "      <td>59</td>\n",
       "      <td>82</td>\n",
       "      <td>101</td>\n",
       "      <td>101</td>\n",
       "      <td>120</td>\n",
       "      <td>144</td>\n",
       "      <td>159</td>\n",
       "      <td>179</td>\n",
       "      <td>194</td>\n",
       "    </tr>\n",
       "    <tr>\n",
       "      <th>4</th>\n",
       "      <td>Gansu</td>\n",
       "      <td>Mainland China</td>\n",
       "      <td>2020-01-03</td>\n",
       "      <td>36.06110</td>\n",
       "      <td>103.8343</td>\n",
       "      <td>0</td>\n",
       "      <td>0</td>\n",
       "      <td>2</td>\n",
       "      <td>2</td>\n",
       "      <td>7</td>\n",
       "      <td>14</td>\n",
       "      <td>19</td>\n",
       "      <td>24</td>\n",
       "      <td>26</td>\n",
       "      <td>26</td>\n",
       "      <td>35</td>\n",
       "      <td>35</td>\n",
       "      <td>51</td>\n",
       "      <td>55</td>\n",
       "      <td>57</td>\n",
       "    </tr>\n",
       "  </tbody>\n",
       "</table>\n",
       "</div>"
      ],
      "text/plain": [
       "  Province/State  Country/Region First Confirmed Date       Lat      Long  \\\n",
       "0          Anhui  Mainland China           2020-01-03  31.82571  117.2264   \n",
       "1        Beijing  Mainland China           2020-01-03  40.18238  116.4142   \n",
       "2      Chongqing  Mainland China           2020-01-03  30.05718  107.8740   \n",
       "3         Fujian  Mainland China           2020-01-03  26.07783  117.9895   \n",
       "4          Gansu  Mainland China           2020-01-03  36.06110  103.8343   \n",
       "\n",
       "   2020-01-21 22:00:00  2020-01-22 12:00:00  2020-01-23 12:00:00  \\\n",
       "0                    0                    1                    9   \n",
       "1                   10                   14                   22   \n",
       "2                    5                    6                    9   \n",
       "3                    0                    1                    5   \n",
       "4                    0                    0                    2   \n",
       "\n",
       "   2020-01-24 12:00:00  2020-01-25 22:00:00  2020-01-26 23:00:00  \\\n",
       "0                   15                   60                   70   \n",
       "1                   36                   51                   68   \n",
       "2                   27                   75                  110   \n",
       "3                   10                   18                   35   \n",
       "4                    2                    7                   14   \n",
       "\n",
       "   2020-01-27 20:30:00  2020-01-28 23:00:00  2020-01-29 21:00:00  \\\n",
       "0                  106                  152                  200   \n",
       "1                   80                   91                  111   \n",
       "2                  132                  147                  165   \n",
       "3                   59                   82                  101   \n",
       "4                   19                   24                   26   \n",
       "\n",
       "   2020-01-30 11:00:00  2020-01-31 19:00:00  2020-02-01 10:00:00  \\\n",
       "0                  200                  237                  297   \n",
       "1                  114                  139                  168   \n",
       "2                  182                  238                  247   \n",
       "3                  101                  120                  144   \n",
       "4                   26                   35                   35   \n",
       "\n",
       "   2020-02-02 21:00:00  2020-02-03 21:00:00  2020-02-04 22:00:00  \n",
       "0                  408                  480                  530  \n",
       "1                  191                  212                  228  \n",
       "2                  300                  337                  366  \n",
       "3                  159                  179                  194  \n",
       "4                   51                   55                   57  "
      ]
     },
     "execution_count": 4,
     "metadata": {},
     "output_type": "execute_result"
    }
   ],
   "source": [
    "confirmed.head()"
   ]
  },
  {
   "cell_type": "markdown",
   "metadata": {},
   "source": [
    "### Melt each dataframe so date columns and counts are rows"
   ]
  },
  {
   "cell_type": "code",
   "execution_count": 5,
   "metadata": {},
   "outputs": [
    {
     "data": {
      "text/html": [
       "<div>\n",
       "<style scoped>\n",
       "    .dataframe tbody tr th:only-of-type {\n",
       "        vertical-align: middle;\n",
       "    }\n",
       "\n",
       "    .dataframe tbody tr th {\n",
       "        vertical-align: top;\n",
       "    }\n",
       "\n",
       "    .dataframe thead th {\n",
       "        text-align: right;\n",
       "    }\n",
       "</style>\n",
       "<table border=\"1\" class=\"dataframe\">\n",
       "  <thead>\n",
       "    <tr style=\"text-align: right;\">\n",
       "      <th></th>\n",
       "      <th>Province/State</th>\n",
       "      <th>Country/Region</th>\n",
       "      <th>First Confirmed Date</th>\n",
       "      <th>Lat</th>\n",
       "      <th>Long</th>\n",
       "      <th>Date</th>\n",
       "      <th>Confirmed Cases</th>\n",
       "    </tr>\n",
       "  </thead>\n",
       "  <tbody>\n",
       "    <tr>\n",
       "      <th>0</th>\n",
       "      <td>Anhui</td>\n",
       "      <td>Mainland China</td>\n",
       "      <td>2020-01-03</td>\n",
       "      <td>31.82571</td>\n",
       "      <td>117.2264</td>\n",
       "      <td>2020-01-21 22:00:00</td>\n",
       "      <td>0</td>\n",
       "    </tr>\n",
       "    <tr>\n",
       "      <th>65</th>\n",
       "      <td>Anhui</td>\n",
       "      <td>Mainland China</td>\n",
       "      <td>2020-01-03</td>\n",
       "      <td>31.82571</td>\n",
       "      <td>117.2264</td>\n",
       "      <td>2020-01-22 12:00:00</td>\n",
       "      <td>1</td>\n",
       "    </tr>\n",
       "    <tr>\n",
       "      <th>130</th>\n",
       "      <td>Anhui</td>\n",
       "      <td>Mainland China</td>\n",
       "      <td>2020-01-03</td>\n",
       "      <td>31.82571</td>\n",
       "      <td>117.2264</td>\n",
       "      <td>2020-01-23 12:00:00</td>\n",
       "      <td>9</td>\n",
       "    </tr>\n",
       "    <tr>\n",
       "      <th>195</th>\n",
       "      <td>Anhui</td>\n",
       "      <td>Mainland China</td>\n",
       "      <td>2020-01-03</td>\n",
       "      <td>31.82571</td>\n",
       "      <td>117.2264</td>\n",
       "      <td>2020-01-24 12:00:00</td>\n",
       "      <td>15</td>\n",
       "    </tr>\n",
       "    <tr>\n",
       "      <th>260</th>\n",
       "      <td>Anhui</td>\n",
       "      <td>Mainland China</td>\n",
       "      <td>2020-01-03</td>\n",
       "      <td>31.82571</td>\n",
       "      <td>117.2264</td>\n",
       "      <td>2020-01-25 22:00:00</td>\n",
       "      <td>60</td>\n",
       "    </tr>\n",
       "  </tbody>\n",
       "</table>\n",
       "</div>"
      ],
      "text/plain": [
       "    Province/State  Country/Region First Confirmed Date       Lat      Long  \\\n",
       "0            Anhui  Mainland China           2020-01-03  31.82571  117.2264   \n",
       "65           Anhui  Mainland China           2020-01-03  31.82571  117.2264   \n",
       "130          Anhui  Mainland China           2020-01-03  31.82571  117.2264   \n",
       "195          Anhui  Mainland China           2020-01-03  31.82571  117.2264   \n",
       "260          Anhui  Mainland China           2020-01-03  31.82571  117.2264   \n",
       "\n",
       "                   Date  Confirmed Cases  \n",
       "0   2020-01-21 22:00:00                0  \n",
       "65  2020-01-22 12:00:00                1  \n",
       "130 2020-01-23 12:00:00                9  \n",
       "195 2020-01-24 12:00:00               15  \n",
       "260 2020-01-25 22:00:00               60  "
      ]
     },
     "execution_count": 5,
     "metadata": {},
     "output_type": "execute_result"
    }
   ],
   "source": [
    "### \n",
    "\n",
    "confirmed = confirmed.melt(id_vars=[\"Province/State\", \"Country/Region\", \"First Confirmed Date\", \"Lat\", \"Long\"], \n",
    "        var_name=\"Date\", \n",
    "        value_name=\"Confirmed Cases\").sort_values(by=['Province/State', 'Date'])\n",
    "recovered = recovered.melt(id_vars=[\"Province/State\", \"Country/Region\", \"First Confirmed Date\", \"Lat\", \"Long\"], \n",
    "        var_name=\"Date\", \n",
    "        value_name=\"Recovered Cases\").sort_values(by=['Province/State', 'Date'])\n",
    "deaths = deaths.melt(id_vars=[\"Province/State\", \"Country/Region\", \"First Confirmed Date\", \"Lat\", \"Long\"], \n",
    "        var_name=\"Date\", \n",
    "        value_name=\"Death Cases\").sort_values(by=['Province/State', 'Date'])\n",
    "\n",
    "confirmed.head()"
   ]
  },
  {
   "cell_type": "markdown",
   "metadata": {},
   "source": [
    "### Check to make sure all data frames have the same number of rows"
   ]
  },
  {
   "cell_type": "code",
   "execution_count": 6,
   "metadata": {},
   "outputs": [
    {
     "name": "stdout",
     "output_type": "stream",
     "text": [
      "<class 'pandas.core.frame.DataFrame'>\n",
      "Int64Index: 975 entries, 0 to 940\n",
      "Data columns (total 7 columns):\n",
      "Province/State          975 non-null object\n",
      "Country/Region          975 non-null object\n",
      "First Confirmed Date    975 non-null datetime64[ns]\n",
      "Lat                     975 non-null float64\n",
      "Long                    975 non-null float64\n",
      "Date                    975 non-null datetime64[ns]\n",
      "Confirmed Cases         975 non-null int64\n",
      "dtypes: datetime64[ns](2), float64(2), int64(1), object(2)\n",
      "memory usage: 60.9+ KB\n"
     ]
    }
   ],
   "source": [
    "confirmed.info()"
   ]
  },
  {
   "cell_type": "code",
   "execution_count": 7,
   "metadata": {},
   "outputs": [
    {
     "name": "stdout",
     "output_type": "stream",
     "text": [
      "<class 'pandas.core.frame.DataFrame'>\n",
      "Int64Index: 975 entries, 0 to 940\n",
      "Data columns (total 7 columns):\n",
      "Province/State          975 non-null object\n",
      "Country/Region          975 non-null object\n",
      "First Confirmed Date    975 non-null datetime64[ns]\n",
      "Lat                     975 non-null float64\n",
      "Long                    975 non-null float64\n",
      "Date                    975 non-null datetime64[ns]\n",
      "Recovered Cases         975 non-null int64\n",
      "dtypes: datetime64[ns](2), float64(2), int64(1), object(2)\n",
      "memory usage: 60.9+ KB\n"
     ]
    }
   ],
   "source": [
    "recovered.info()"
   ]
  },
  {
   "cell_type": "code",
   "execution_count": 8,
   "metadata": {},
   "outputs": [
    {
     "name": "stdout",
     "output_type": "stream",
     "text": [
      "<class 'pandas.core.frame.DataFrame'>\n",
      "Int64Index: 975 entries, 0 to 940\n",
      "Data columns (total 7 columns):\n",
      "Province/State          975 non-null object\n",
      "Country/Region          975 non-null object\n",
      "First Confirmed Date    975 non-null datetime64[ns]\n",
      "Lat                     975 non-null float64\n",
      "Long                    975 non-null float64\n",
      "Date                    975 non-null datetime64[ns]\n",
      "Death Cases             975 non-null int64\n",
      "dtypes: datetime64[ns](2), float64(2), int64(1), object(2)\n",
      "memory usage: 60.9+ KB\n"
     ]
    }
   ],
   "source": [
    "deaths.info()"
   ]
  },
  {
   "cell_type": "markdown",
   "metadata": {},
   "source": [
    "### Merge all data frames to one data frame"
   ]
  },
  {
   "cell_type": "code",
   "execution_count": 9,
   "metadata": {},
   "outputs": [],
   "source": [
    "df = pd.concat([confirmed, recovered, deaths], axis=1)\n",
    "### Remove duplicated columns\n",
    "df = df.iloc[:, [0,1,2,3,4,5,6,13,20]]"
   ]
  },
  {
   "cell_type": "code",
   "execution_count": 10,
   "metadata": {},
   "outputs": [
    {
     "name": "stdout",
     "output_type": "stream",
     "text": [
      "<class 'pandas.core.frame.DataFrame'>\n",
      "Int64Index: 975 entries, 0 to 974\n",
      "Data columns (total 9 columns):\n",
      "Province/State          975 non-null object\n",
      "Country/Region          975 non-null object\n",
      "First Confirmed Date    975 non-null datetime64[ns]\n",
      "Lat                     975 non-null float64\n",
      "Long                    975 non-null float64\n",
      "Date                    975 non-null datetime64[ns]\n",
      "Confirmed Cases         975 non-null int64\n",
      "Recovered Cases         975 non-null int64\n",
      "Death Cases             975 non-null int64\n",
      "dtypes: datetime64[ns](2), float64(2), int64(3), object(2)\n",
      "memory usage: 76.2+ KB\n"
     ]
    }
   ],
   "source": [
    "df.info()"
   ]
  },
  {
   "cell_type": "markdown",
   "metadata": {},
   "source": [
    "### Sort data by Province/State then by Date"
   ]
  },
  {
   "cell_type": "code",
   "execution_count": 11,
   "metadata": {},
   "outputs": [],
   "source": [
    "df = df.sort_values(by=['Province/State', 'Date'])"
   ]
  },
  {
   "cell_type": "code",
   "execution_count": 12,
   "metadata": {},
   "outputs": [
    {
     "data": {
      "text/html": [
       "<div>\n",
       "<style scoped>\n",
       "    .dataframe tbody tr th:only-of-type {\n",
       "        vertical-align: middle;\n",
       "    }\n",
       "\n",
       "    .dataframe tbody tr th {\n",
       "        vertical-align: top;\n",
       "    }\n",
       "\n",
       "    .dataframe thead th {\n",
       "        text-align: right;\n",
       "    }\n",
       "</style>\n",
       "<table border=\"1\" class=\"dataframe\">\n",
       "  <thead>\n",
       "    <tr style=\"text-align: right;\">\n",
       "      <th></th>\n",
       "      <th>Province/State</th>\n",
       "      <th>Country/Region</th>\n",
       "      <th>First Confirmed Date</th>\n",
       "      <th>Lat</th>\n",
       "      <th>Long</th>\n",
       "      <th>Date</th>\n",
       "      <th>Confirmed Cases</th>\n",
       "      <th>Recovered Cases</th>\n",
       "      <th>Death Cases</th>\n",
       "    </tr>\n",
       "  </thead>\n",
       "  <tbody>\n",
       "    <tr>\n",
       "      <th>0</th>\n",
       "      <td>Anhui</td>\n",
       "      <td>Mainland China</td>\n",
       "      <td>2020-01-03</td>\n",
       "      <td>31.82571</td>\n",
       "      <td>117.2264</td>\n",
       "      <td>2020-01-21 22:00:00</td>\n",
       "      <td>0</td>\n",
       "      <td>0</td>\n",
       "      <td>0</td>\n",
       "    </tr>\n",
       "    <tr>\n",
       "      <th>65</th>\n",
       "      <td>Anhui</td>\n",
       "      <td>Mainland China</td>\n",
       "      <td>2020-01-03</td>\n",
       "      <td>31.82571</td>\n",
       "      <td>117.2264</td>\n",
       "      <td>2020-01-22 12:00:00</td>\n",
       "      <td>1</td>\n",
       "      <td>0</td>\n",
       "      <td>0</td>\n",
       "    </tr>\n",
       "    <tr>\n",
       "      <th>130</th>\n",
       "      <td>Anhui</td>\n",
       "      <td>Mainland China</td>\n",
       "      <td>2020-01-03</td>\n",
       "      <td>31.82571</td>\n",
       "      <td>117.2264</td>\n",
       "      <td>2020-01-23 12:00:00</td>\n",
       "      <td>9</td>\n",
       "      <td>0</td>\n",
       "      <td>0</td>\n",
       "    </tr>\n",
       "    <tr>\n",
       "      <th>195</th>\n",
       "      <td>Anhui</td>\n",
       "      <td>Mainland China</td>\n",
       "      <td>2020-01-03</td>\n",
       "      <td>31.82571</td>\n",
       "      <td>117.2264</td>\n",
       "      <td>2020-01-24 12:00:00</td>\n",
       "      <td>15</td>\n",
       "      <td>0</td>\n",
       "      <td>0</td>\n",
       "    </tr>\n",
       "    <tr>\n",
       "      <th>260</th>\n",
       "      <td>Anhui</td>\n",
       "      <td>Mainland China</td>\n",
       "      <td>2020-01-03</td>\n",
       "      <td>31.82571</td>\n",
       "      <td>117.2264</td>\n",
       "      <td>2020-01-25 22:00:00</td>\n",
       "      <td>60</td>\n",
       "      <td>0</td>\n",
       "      <td>0</td>\n",
       "    </tr>\n",
       "  </tbody>\n",
       "</table>\n",
       "</div>"
      ],
      "text/plain": [
       "    Province/State  Country/Region First Confirmed Date       Lat      Long  \\\n",
       "0            Anhui  Mainland China           2020-01-03  31.82571  117.2264   \n",
       "65           Anhui  Mainland China           2020-01-03  31.82571  117.2264   \n",
       "130          Anhui  Mainland China           2020-01-03  31.82571  117.2264   \n",
       "195          Anhui  Mainland China           2020-01-03  31.82571  117.2264   \n",
       "260          Anhui  Mainland China           2020-01-03  31.82571  117.2264   \n",
       "\n",
       "                   Date  Confirmed Cases  Recovered Cases  Death Cases  \n",
       "0   2020-01-21 22:00:00                0                0            0  \n",
       "65  2020-01-22 12:00:00                1                0            0  \n",
       "130 2020-01-23 12:00:00                9                0            0  \n",
       "195 2020-01-24 12:00:00               15                0            0  \n",
       "260 2020-01-25 22:00:00               60                0            0  "
      ]
     },
     "execution_count": 12,
     "metadata": {},
     "output_type": "execute_result"
    }
   ],
   "source": [
    "df.head()"
   ]
  },
  {
   "cell_type": "markdown",
   "metadata": {},
   "source": [
    "### Set up MongoDB Connection"
   ]
  },
  {
   "cell_type": "code",
   "execution_count": 49,
   "metadata": {},
   "outputs": [],
   "source": [
    "import pymongo\n",
    "import dns\n",
    "username = 'Terra925'\n",
    "password = 'H%40mmond271'"
   ]
  },
  {
   "cell_type": "code",
   "execution_count": 50,
   "metadata": {},
   "outputs": [],
   "source": [
    "conn = 'mongodb+srv://' + username +':' + password + '@cluster0-paegd.mongodb.net/test?retryWrites=true&w=majority'\n",
    "client = pymongo.MongoClient(conn)\n",
    "db = client['corona_virus']\n",
    "collection = db['cases']"
   ]
  },
  {
   "cell_type": "markdown",
   "metadata": {},
   "source": [
    "### Itterate through rows of df, create a post object, then post new document to MongoDB database"
   ]
  },
  {
   "cell_type": "code",
   "execution_count": 20,
   "metadata": {},
   "outputs": [],
   "source": [
    "\n",
    "for index, row in df.iterrows():\n",
    "    post = {\n",
    "        'location': row['Province/State'],\n",
    "        'region': row['Country/Region'],\n",
    "        'firstConfirmedDate': row['First Confirmed Date'],\n",
    "        'lat': row['Lat'],\n",
    "        'lng': row['Long'],\n",
    "        'cases': {\n",
    "            'date': row['Date'],\n",
    "            'confirmed': row['Confirmed Cases'],\n",
    "            'recovered': row['Recovered Cases'],\n",
    "            'deaths': row['Death Cases']\n",
    "        }\n",
    "    }\n",
    "    id = collection.insert_one(post).inserted_id\n"
   ]
  },
  {
   "cell_type": "code",
   "execution_count": 17,
   "metadata": {},
   "outputs": [
    {
     "data": {
      "text/plain": [
       "{'location': 'Zhejiang',\n",
       " 'region': 'Mainland China',\n",
       " 'firstConfirmedDate': Timestamp('2020-01-03 00:00:00'),\n",
       " 'lat': 29.18251,\n",
       " 'lng': 120.0985,\n",
       " 'cases': {'date': Timestamp('2020-02-04 22:00:00'),\n",
       "  'confirmed': 895,\n",
       "  'recovered': 63,\n",
       "  'deaths': 0}}"
      ]
     },
     "execution_count": 17,
     "metadata": {},
     "output_type": "execute_result"
    }
   ],
   "source": [
    "post"
   ]
  },
  {
   "cell_type": "markdown",
   "metadata": {},
   "source": [
    "### Create a new collection with dates as the indexes"
   ]
  },
  {
   "cell_type": "code",
   "execution_count": 53,
   "metadata": {},
   "outputs": [],
   "source": [
    "collection = db['cases_by_date']"
   ]
  },
  {
   "cell_type": "markdown",
   "metadata": {},
   "source": [
    "#### Create DF that groups by dates then by province/state"
   ]
  },
  {
   "cell_type": "code",
   "execution_count": 25,
   "metadata": {},
   "outputs": [
    {
     "data": {
      "text/html": [
       "<div>\n",
       "<style scoped>\n",
       "    .dataframe tbody tr th:only-of-type {\n",
       "        vertical-align: middle;\n",
       "    }\n",
       "\n",
       "    .dataframe tbody tr th {\n",
       "        vertical-align: top;\n",
       "    }\n",
       "\n",
       "    .dataframe thead th {\n",
       "        text-align: right;\n",
       "    }\n",
       "</style>\n",
       "<table border=\"1\" class=\"dataframe\">\n",
       "  <thead>\n",
       "    <tr style=\"text-align: right;\">\n",
       "      <th></th>\n",
       "      <th>Date</th>\n",
       "      <th>Province/State</th>\n",
       "      <th>Country/Region</th>\n",
       "      <th>First Confirmed Date</th>\n",
       "      <th>Lat</th>\n",
       "      <th>Long</th>\n",
       "      <th>Confirmed Cases</th>\n",
       "      <th>Recovered Cases</th>\n",
       "      <th>Death Cases</th>\n",
       "    </tr>\n",
       "  </thead>\n",
       "  <tbody>\n",
       "    <tr>\n",
       "      <th>0</th>\n",
       "      <td>2020-01-21 22:00:00</td>\n",
       "      <td>Anhui</td>\n",
       "      <td>Mainland China</td>\n",
       "      <td>2020-01-03</td>\n",
       "      <td>31.82571</td>\n",
       "      <td>117.2264</td>\n",
       "      <td>0</td>\n",
       "      <td>0</td>\n",
       "      <td>0</td>\n",
       "    </tr>\n",
       "    <tr>\n",
       "      <th>1</th>\n",
       "      <td>2020-01-21 22:00:00</td>\n",
       "      <td>Arizona</td>\n",
       "      <td>US</td>\n",
       "      <td>2020-01-26</td>\n",
       "      <td>34.04890</td>\n",
       "      <td>-111.0940</td>\n",
       "      <td>0</td>\n",
       "      <td>0</td>\n",
       "      <td>0</td>\n",
       "    </tr>\n",
       "    <tr>\n",
       "      <th>2</th>\n",
       "      <td>2020-01-21 22:00:00</td>\n",
       "      <td>Beijing</td>\n",
       "      <td>Mainland China</td>\n",
       "      <td>2020-01-03</td>\n",
       "      <td>40.18238</td>\n",
       "      <td>116.4142</td>\n",
       "      <td>10</td>\n",
       "      <td>0</td>\n",
       "      <td>0</td>\n",
       "    </tr>\n",
       "    <tr>\n",
       "      <th>3</th>\n",
       "      <td>2020-01-21 22:00:00</td>\n",
       "      <td>Boston, MA</td>\n",
       "      <td>US</td>\n",
       "      <td>2020-02-02</td>\n",
       "      <td>42.36010</td>\n",
       "      <td>-71.0589</td>\n",
       "      <td>0</td>\n",
       "      <td>0</td>\n",
       "      <td>0</td>\n",
       "    </tr>\n",
       "    <tr>\n",
       "      <th>4</th>\n",
       "      <td>2020-01-21 22:00:00</td>\n",
       "      <td>British Columbia</td>\n",
       "      <td>Canada</td>\n",
       "      <td>2020-01-28</td>\n",
       "      <td>49.28270</td>\n",
       "      <td>-123.1210</td>\n",
       "      <td>0</td>\n",
       "      <td>0</td>\n",
       "      <td>0</td>\n",
       "    </tr>\n",
       "  </tbody>\n",
       "</table>\n",
       "</div>"
      ],
      "text/plain": [
       "                 Date    Province/State  Country/Region First Confirmed Date  \\\n",
       "0 2020-01-21 22:00:00             Anhui  Mainland China           2020-01-03   \n",
       "1 2020-01-21 22:00:00           Arizona              US           2020-01-26   \n",
       "2 2020-01-21 22:00:00           Beijing  Mainland China           2020-01-03   \n",
       "3 2020-01-21 22:00:00        Boston, MA              US           2020-02-02   \n",
       "4 2020-01-21 22:00:00  British Columbia          Canada           2020-01-28   \n",
       "\n",
       "        Lat      Long  Confirmed Cases  Recovered Cases  Death Cases  \n",
       "0  31.82571  117.2264                0                0            0  \n",
       "1  34.04890 -111.0940                0                0            0  \n",
       "2  40.18238  116.4142               10                0            0  \n",
       "3  42.36010  -71.0589                0                0            0  \n",
       "4  49.28270 -123.1210                0                0            0  "
      ]
     },
     "execution_count": 25,
     "metadata": {},
     "output_type": "execute_result"
    }
   ],
   "source": [
    "by_date = df.groupby([\"Date\", \"Province/State\"]).max().reset_index()\n",
    "by_date.head()\n",
    "\n"
   ]
  },
  {
   "cell_type": "markdown",
   "metadata": {},
   "source": [
    "#### Create DF that groups by dates"
   ]
  },
  {
   "cell_type": "code",
   "execution_count": 24,
   "metadata": {},
   "outputs": [
    {
     "data": {
      "text/html": [
       "<div>\n",
       "<style scoped>\n",
       "    .dataframe tbody tr th:only-of-type {\n",
       "        vertical-align: middle;\n",
       "    }\n",
       "\n",
       "    .dataframe tbody tr th {\n",
       "        vertical-align: top;\n",
       "    }\n",
       "\n",
       "    .dataframe thead th {\n",
       "        text-align: right;\n",
       "    }\n",
       "</style>\n",
       "<table border=\"1\" class=\"dataframe\">\n",
       "  <thead>\n",
       "    <tr style=\"text-align: right;\">\n",
       "      <th></th>\n",
       "      <th>Date</th>\n",
       "      <th>Confirmed Cases</th>\n",
       "      <th>Recovered Cases</th>\n",
       "      <th>Death Cases</th>\n",
       "    </tr>\n",
       "  </thead>\n",
       "  <tbody>\n",
       "    <tr>\n",
       "      <th>0</th>\n",
       "      <td>2020-01-21 22:00:00</td>\n",
       "      <td>270</td>\n",
       "      <td>25</td>\n",
       "      <td>0</td>\n",
       "    </tr>\n",
       "    <tr>\n",
       "      <th>1</th>\n",
       "      <td>2020-01-22 12:00:00</td>\n",
       "      <td>444</td>\n",
       "      <td>28</td>\n",
       "      <td>0</td>\n",
       "    </tr>\n",
       "    <tr>\n",
       "      <th>2</th>\n",
       "      <td>2020-01-23 12:00:00</td>\n",
       "      <td>444</td>\n",
       "      <td>28</td>\n",
       "      <td>0</td>\n",
       "    </tr>\n",
       "    <tr>\n",
       "      <th>3</th>\n",
       "      <td>2020-01-24 12:00:00</td>\n",
       "      <td>549</td>\n",
       "      <td>31</td>\n",
       "      <td>24</td>\n",
       "    </tr>\n",
       "    <tr>\n",
       "      <th>4</th>\n",
       "      <td>2020-01-25 22:00:00</td>\n",
       "      <td>1052</td>\n",
       "      <td>42</td>\n",
       "      <td>52</td>\n",
       "    </tr>\n",
       "  </tbody>\n",
       "</table>\n",
       "</div>"
      ],
      "text/plain": [
       "                 Date  Confirmed Cases  Recovered Cases  Death Cases\n",
       "0 2020-01-21 22:00:00              270               25            0\n",
       "1 2020-01-22 12:00:00              444               28            0\n",
       "2 2020-01-23 12:00:00              444               28            0\n",
       "3 2020-01-24 12:00:00              549               31           24\n",
       "4 2020-01-25 22:00:00             1052               42           52"
      ]
     },
     "execution_count": 24,
     "metadata": {},
     "output_type": "execute_result"
    }
   ],
   "source": [
    "totals = by_date.groupby(\"Date\")[\"Confirmed Cases\", \"Recovered Cases\", \"Death Cases\"].max().reset_index()\n",
    "totals.head()"
   ]
  },
  {
   "cell_type": "markdown",
   "metadata": {},
   "source": [
    "### Create the documents and upload to MongoDB Collection"
   ]
  },
  {
   "cell_type": "code",
   "execution_count": 55,
   "metadata": {},
   "outputs": [],
   "source": [
    "### iterate through totals df so there is only one document per day\n",
    "for index, row in totals.iterrows():\n",
    "    date = row['Date']\n",
    "    ### base post object\n",
    "    post = {\n",
    "        'date': row['Date'],\n",
    "        'total_confirmed': row['Confirmed Cases'],\n",
    "        'total_recovered': row['Recovered Cases'],\n",
    "        'total_deaths': row['Death Cases'],\n",
    "        'locations': {} ### this will be updated in the next itteration\n",
    "        }\n",
    "    ### iterate through by_date df to store relevant data\n",
    "    for i, r in by_date.iterrows():\n",
    "        ### only add to post if the date in by_date df matches the date in current itteration of totals df\n",
    "        if r['Date'] == date:\n",
    "            location = r['Province/State']\n",
    "            ### temporary object to hold data that will be added to \"locations\" in post\n",
    "            obj = {\n",
    "                        \"region\": r['Country/Region'],\n",
    "                        \"lat\": r[\"Lat\"],\n",
    "                        \"lng\": r[\"Long\"],\n",
    "                        \"confirmed\": r[\"Confirmed Cases\"],\n",
    "                        \"recovered\": r[\"Recovered Cases\"],\n",
    "                        \"deaths\": r[\"Death Cases\"]\n",
    "                    }\n",
    "            ### add obj data to posted data\n",
    "            post['locations'][location] = obj\n",
    "            \n",
    "            ### upload post to Mongo DB\n",
    "        else:\n",
    "            \n",
    "            continue\n",
    "    id = collection.insert_one(post).inserted_id\n"
   ]
  },
  {
   "cell_type": "code",
   "execution_count": null,
   "metadata": {},
   "outputs": [],
   "source": []
  }
 ],
 "metadata": {
  "kernelspec": {
   "display_name": "Python 3",
   "language": "python",
   "name": "python3"
  },
  "language_info": {
   "codemirror_mode": {
    "name": "ipython",
    "version": 3
   },
   "file_extension": ".py",
   "mimetype": "text/x-python",
   "name": "python",
   "nbconvert_exporter": "python",
   "pygments_lexer": "ipython3",
   "version": "3.7.3"
  }
 },
 "nbformat": 4,
 "nbformat_minor": 2
}
